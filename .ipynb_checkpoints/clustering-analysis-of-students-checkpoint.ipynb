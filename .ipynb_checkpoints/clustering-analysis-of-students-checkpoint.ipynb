{
 "cells": [
  {
   "cell_type": "markdown",
   "id": "f16bb9b6",
   "metadata": {
    "papermill": {
     "duration": 0.020714,
     "end_time": "2024-02-29T11:08:37.263675",
     "exception": false,
     "start_time": "2024-02-29T11:08:37.242961",
     "status": "completed"
    },
    "tags": []
   },
   "source": [
    "# 📌Loading Required Packages"
   ]
  },
  {
   "cell_type": "code",
   "execution_count": 1,
   "id": "6278258d",
   "metadata": {
    "execution": {
     "iopub.execute_input": "2024-02-29T11:08:37.304462Z",
     "iopub.status.busy": "2024-02-29T11:08:37.304035Z",
     "iopub.status.idle": "2024-02-29T11:08:39.725567Z",
     "shell.execute_reply": "2024-02-29T11:08:39.724330Z"
    },
    "papermill": {
     "duration": 2.44514,
     "end_time": "2024-02-29T11:08:39.728449",
     "exception": false,
     "start_time": "2024-02-29T11:08:37.283309",
     "status": "completed"
    },
    "tags": []
   },
   "outputs": [],
   "source": [
    "#Important packages\n",
    "\n",
    "import pandas as pd\n",
    "import numpy as np\n",
    "\n",
    "import matplotlib.pyplot as plt\n",
    "import seaborn as sns\n",
    "%matplotlib inline\n",
    "\n",
    "import warnings\n",
    "warnings.filterwarnings(\"ignore\")"
   ]
  },
  {
   "cell_type": "markdown",
   "id": "e0104e93",
   "metadata": {
    "papermill": {
     "duration": 0.020081,
     "end_time": "2024-02-29T11:08:39.769281",
     "exception": false,
     "start_time": "2024-02-29T11:08:39.749200",
     "status": "completed"
    },
    "tags": []
   },
   "source": [
    "# 📌Check Out the Data"
   ]
  },
  {
   "cell_type": "code",
   "execution_count": 2,
   "id": "8fff7e92",
   "metadata": {
    "execution": {
     "iopub.execute_input": "2024-02-29T11:08:39.809820Z",
     "iopub.status.busy": "2024-02-29T11:08:39.809307Z",
     "iopub.status.idle": "2024-02-29T11:08:39.912281Z",
     "shell.execute_reply": "2024-02-29T11:08:39.910960Z"
    },
    "papermill": {
     "duration": 0.126608,
     "end_time": "2024-02-29T11:08:39.915089",
     "exception": false,
     "start_time": "2024-02-29T11:08:39.788481",
     "status": "completed"
    },
    "tags": []
   },
   "outputs": [],
   "source": [
    "#Load Dataset\n",
    "data = pd.read_csv(\"03_Clustering_Marketing.csv\")"
   ]
  },
  {
   "cell_type": "code",
   "execution_count": 3,
   "id": "282668cd",
   "metadata": {
    "execution": {
     "iopub.execute_input": "2024-02-29T11:08:39.955853Z",
     "iopub.status.busy": "2024-02-29T11:08:39.955413Z",
     "iopub.status.idle": "2024-02-29T11:08:39.989428Z",
     "shell.execute_reply": "2024-02-29T11:08:39.988185Z"
    },
    "papermill": {
     "duration": 0.057325,
     "end_time": "2024-02-29T11:08:39.991923",
     "exception": false,
     "start_time": "2024-02-29T11:08:39.934598",
     "status": "completed"
    },
    "tags": []
   },
   "outputs": [
    {
     "data": {
      "text/html": [
       "<div>\n",
       "<style scoped>\n",
       "    .dataframe tbody tr th:only-of-type {\n",
       "        vertical-align: middle;\n",
       "    }\n",
       "\n",
       "    .dataframe tbody tr th {\n",
       "        vertical-align: top;\n",
       "    }\n",
       "\n",
       "    .dataframe thead th {\n",
       "        text-align: right;\n",
       "    }\n",
       "</style>\n",
       "<table border=\"1\" class=\"dataframe\">\n",
       "  <thead>\n",
       "    <tr style=\"text-align: right;\">\n",
       "      <th></th>\n",
       "      <th>gradyear</th>\n",
       "      <th>gender</th>\n",
       "      <th>age</th>\n",
       "      <th>NumberOffriends</th>\n",
       "      <th>basketball</th>\n",
       "      <th>football</th>\n",
       "      <th>soccer</th>\n",
       "      <th>softball</th>\n",
       "      <th>volleyball</th>\n",
       "      <th>swimming</th>\n",
       "      <th>...</th>\n",
       "      <th>blonde</th>\n",
       "      <th>mall</th>\n",
       "      <th>shopping</th>\n",
       "      <th>clothes</th>\n",
       "      <th>hollister</th>\n",
       "      <th>abercrombie</th>\n",
       "      <th>die</th>\n",
       "      <th>death</th>\n",
       "      <th>drunk</th>\n",
       "      <th>drugs</th>\n",
       "    </tr>\n",
       "  </thead>\n",
       "  <tbody>\n",
       "    <tr>\n",
       "      <th>0</th>\n",
       "      <td>2007</td>\n",
       "      <td>NaN</td>\n",
       "      <td>NaN</td>\n",
       "      <td>0</td>\n",
       "      <td>0</td>\n",
       "      <td>0</td>\n",
       "      <td>0</td>\n",
       "      <td>0</td>\n",
       "      <td>0</td>\n",
       "      <td>0</td>\n",
       "      <td>...</td>\n",
       "      <td>0</td>\n",
       "      <td>0</td>\n",
       "      <td>0</td>\n",
       "      <td>0</td>\n",
       "      <td>0</td>\n",
       "      <td>0</td>\n",
       "      <td>0</td>\n",
       "      <td>0</td>\n",
       "      <td>0</td>\n",
       "      <td>0</td>\n",
       "    </tr>\n",
       "    <tr>\n",
       "      <th>1</th>\n",
       "      <td>2007</td>\n",
       "      <td>F</td>\n",
       "      <td>17.41</td>\n",
       "      <td>49</td>\n",
       "      <td>0</td>\n",
       "      <td>0</td>\n",
       "      <td>1</td>\n",
       "      <td>0</td>\n",
       "      <td>0</td>\n",
       "      <td>1</td>\n",
       "      <td>...</td>\n",
       "      <td>0</td>\n",
       "      <td>0</td>\n",
       "      <td>0</td>\n",
       "      <td>0</td>\n",
       "      <td>0</td>\n",
       "      <td>0</td>\n",
       "      <td>0</td>\n",
       "      <td>0</td>\n",
       "      <td>1</td>\n",
       "      <td>0</td>\n",
       "    </tr>\n",
       "    <tr>\n",
       "      <th>2</th>\n",
       "      <td>2007</td>\n",
       "      <td>F</td>\n",
       "      <td>17.511</td>\n",
       "      <td>41</td>\n",
       "      <td>0</td>\n",
       "      <td>0</td>\n",
       "      <td>0</td>\n",
       "      <td>0</td>\n",
       "      <td>0</td>\n",
       "      <td>0</td>\n",
       "      <td>...</td>\n",
       "      <td>0</td>\n",
       "      <td>1</td>\n",
       "      <td>0</td>\n",
       "      <td>0</td>\n",
       "      <td>0</td>\n",
       "      <td>0</td>\n",
       "      <td>0</td>\n",
       "      <td>0</td>\n",
       "      <td>1</td>\n",
       "      <td>1</td>\n",
       "    </tr>\n",
       "    <tr>\n",
       "      <th>3</th>\n",
       "      <td>2006</td>\n",
       "      <td>F</td>\n",
       "      <td>NaN</td>\n",
       "      <td>36</td>\n",
       "      <td>0</td>\n",
       "      <td>0</td>\n",
       "      <td>0</td>\n",
       "      <td>0</td>\n",
       "      <td>0</td>\n",
       "      <td>0</td>\n",
       "      <td>...</td>\n",
       "      <td>0</td>\n",
       "      <td>0</td>\n",
       "      <td>0</td>\n",
       "      <td>0</td>\n",
       "      <td>0</td>\n",
       "      <td>0</td>\n",
       "      <td>0</td>\n",
       "      <td>0</td>\n",
       "      <td>0</td>\n",
       "      <td>0</td>\n",
       "    </tr>\n",
       "    <tr>\n",
       "      <th>4</th>\n",
       "      <td>2008</td>\n",
       "      <td>F</td>\n",
       "      <td>16.657</td>\n",
       "      <td>1</td>\n",
       "      <td>0</td>\n",
       "      <td>0</td>\n",
       "      <td>0</td>\n",
       "      <td>0</td>\n",
       "      <td>0</td>\n",
       "      <td>1</td>\n",
       "      <td>...</td>\n",
       "      <td>0</td>\n",
       "      <td>0</td>\n",
       "      <td>0</td>\n",
       "      <td>3</td>\n",
       "      <td>0</td>\n",
       "      <td>0</td>\n",
       "      <td>0</td>\n",
       "      <td>0</td>\n",
       "      <td>0</td>\n",
       "      <td>0</td>\n",
       "    </tr>\n",
       "  </tbody>\n",
       "</table>\n",
       "<p>5 rows × 40 columns</p>\n",
       "</div>"
      ],
      "text/plain": [
       "   gradyear gender     age  NumberOffriends  basketball  football  soccer  \\\n",
       "0      2007    NaN     NaN                0           0         0       0   \n",
       "1      2007      F   17.41               49           0         0       1   \n",
       "2      2007      F  17.511               41           0         0       0   \n",
       "3      2006      F     NaN               36           0         0       0   \n",
       "4      2008      F  16.657                1           0         0       0   \n",
       "\n",
       "   softball  volleyball  swimming  ...  blonde  mall  shopping  clothes  \\\n",
       "0         0           0         0  ...       0     0         0        0   \n",
       "1         0           0         1  ...       0     0         0        0   \n",
       "2         0           0         0  ...       0     1         0        0   \n",
       "3         0           0         0  ...       0     0         0        0   \n",
       "4         0           0         1  ...       0     0         0        3   \n",
       "\n",
       "   hollister  abercrombie  die  death  drunk  drugs  \n",
       "0          0            0    0      0      0      0  \n",
       "1          0            0    0      0      1      0  \n",
       "2          0            0    0      0      1      1  \n",
       "3          0            0    0      0      0      0  \n",
       "4          0            0    0      0      0      0  \n",
       "\n",
       "[5 rows x 40 columns]"
      ]
     },
     "execution_count": 3,
     "metadata": {},
     "output_type": "execute_result"
    }
   ],
   "source": [
    "#Running head command to see first 6 observations\n",
    "data.head()"
   ]
  },
  {
   "cell_type": "markdown",
   "id": "387b0f65",
   "metadata": {
    "papermill": {
     "duration": 0.019867,
     "end_time": "2024-02-29T11:08:40.031875",
     "exception": false,
     "start_time": "2024-02-29T11:08:40.012008",
     "status": "completed"
    },
    "tags": []
   },
   "source": [
    "# 📌Summary Statistics of Numerical Variables"
   ]
  },
  {
   "cell_type": "code",
   "execution_count": 4,
   "id": "742f8dbb",
   "metadata": {
    "execution": {
     "iopub.execute_input": "2024-02-29T11:08:40.074519Z",
     "iopub.status.busy": "2024-02-29T11:08:40.073787Z",
     "iopub.status.idle": "2024-02-29T11:08:40.210563Z",
     "shell.execute_reply": "2024-02-29T11:08:40.209406Z"
    },
    "papermill": {
     "duration": 0.161591,
     "end_time": "2024-02-29T11:08:40.213615",
     "exception": false,
     "start_time": "2024-02-29T11:08:40.052024",
     "status": "completed"
    },
    "tags": []
   },
   "outputs": [
    {
     "data": {
      "text/html": [
       "<div>\n",
       "<style scoped>\n",
       "    .dataframe tbody tr th:only-of-type {\n",
       "        vertical-align: middle;\n",
       "    }\n",
       "\n",
       "    .dataframe tbody tr th {\n",
       "        vertical-align: top;\n",
       "    }\n",
       "\n",
       "    .dataframe thead th {\n",
       "        text-align: right;\n",
       "    }\n",
       "</style>\n",
       "<table border=\"1\" class=\"dataframe\">\n",
       "  <thead>\n",
       "    <tr style=\"text-align: right;\">\n",
       "      <th></th>\n",
       "      <th>gradyear</th>\n",
       "      <th>NumberOffriends</th>\n",
       "      <th>basketball</th>\n",
       "      <th>football</th>\n",
       "      <th>soccer</th>\n",
       "      <th>softball</th>\n",
       "      <th>volleyball</th>\n",
       "      <th>swimming</th>\n",
       "      <th>cheerleading</th>\n",
       "      <th>baseball</th>\n",
       "      <th>...</th>\n",
       "      <th>blonde</th>\n",
       "      <th>mall</th>\n",
       "      <th>shopping</th>\n",
       "      <th>clothes</th>\n",
       "      <th>hollister</th>\n",
       "      <th>abercrombie</th>\n",
       "      <th>die</th>\n",
       "      <th>death</th>\n",
       "      <th>drunk</th>\n",
       "      <th>drugs</th>\n",
       "    </tr>\n",
       "  </thead>\n",
       "  <tbody>\n",
       "    <tr>\n",
       "      <th>count</th>\n",
       "      <td>15000.000000</td>\n",
       "      <td>15000.000000</td>\n",
       "      <td>15000.000000</td>\n",
       "      <td>15000.000000</td>\n",
       "      <td>15000.00000</td>\n",
       "      <td>15000.000000</td>\n",
       "      <td>15000.000000</td>\n",
       "      <td>15000.000000</td>\n",
       "      <td>15000.000000</td>\n",
       "      <td>15000.000000</td>\n",
       "      <td>...</td>\n",
       "      <td>15000.000000</td>\n",
       "      <td>15000.000000</td>\n",
       "      <td>15000.000000</td>\n",
       "      <td>15000.000000</td>\n",
       "      <td>15000.000000</td>\n",
       "      <td>15000.000000</td>\n",
       "      <td>15000.000000</td>\n",
       "      <td>15000.000000</td>\n",
       "      <td>15000.000000</td>\n",
       "      <td>15000.000000</td>\n",
       "    </tr>\n",
       "    <tr>\n",
       "      <th>mean</th>\n",
       "      <td>2007.496933</td>\n",
       "      <td>29.834533</td>\n",
       "      <td>0.267000</td>\n",
       "      <td>0.255467</td>\n",
       "      <td>0.22200</td>\n",
       "      <td>0.159667</td>\n",
       "      <td>0.142933</td>\n",
       "      <td>0.135000</td>\n",
       "      <td>0.105133</td>\n",
       "      <td>0.104133</td>\n",
       "      <td>...</td>\n",
       "      <td>0.112867</td>\n",
       "      <td>0.259467</td>\n",
       "      <td>0.357267</td>\n",
       "      <td>0.150267</td>\n",
       "      <td>0.071800</td>\n",
       "      <td>0.051467</td>\n",
       "      <td>0.185867</td>\n",
       "      <td>0.118067</td>\n",
       "      <td>0.091733</td>\n",
       "      <td>0.061067</td>\n",
       "    </tr>\n",
       "    <tr>\n",
       "      <th>std</th>\n",
       "      <td>1.116516</td>\n",
       "      <td>35.386649</td>\n",
       "      <td>0.788851</td>\n",
       "      <td>0.702260</td>\n",
       "      <td>0.92042</td>\n",
       "      <td>0.737344</td>\n",
       "      <td>0.638747</td>\n",
       "      <td>0.548691</td>\n",
       "      <td>0.502491</td>\n",
       "      <td>0.519205</td>\n",
       "      <td>...</td>\n",
       "      <td>2.708619</td>\n",
       "      <td>0.704398</td>\n",
       "      <td>0.728512</td>\n",
       "      <td>0.478716</td>\n",
       "      <td>0.356258</td>\n",
       "      <td>0.280755</td>\n",
       "      <td>0.609928</td>\n",
       "      <td>0.455200</td>\n",
       "      <td>0.420631</td>\n",
       "      <td>0.349112</td>\n",
       "    </tr>\n",
       "    <tr>\n",
       "      <th>min</th>\n",
       "      <td>2006.000000</td>\n",
       "      <td>0.000000</td>\n",
       "      <td>0.000000</td>\n",
       "      <td>0.000000</td>\n",
       "      <td>0.00000</td>\n",
       "      <td>0.000000</td>\n",
       "      <td>0.000000</td>\n",
       "      <td>0.000000</td>\n",
       "      <td>0.000000</td>\n",
       "      <td>0.000000</td>\n",
       "      <td>...</td>\n",
       "      <td>0.000000</td>\n",
       "      <td>0.000000</td>\n",
       "      <td>0.000000</td>\n",
       "      <td>0.000000</td>\n",
       "      <td>0.000000</td>\n",
       "      <td>0.000000</td>\n",
       "      <td>0.000000</td>\n",
       "      <td>0.000000</td>\n",
       "      <td>0.000000</td>\n",
       "      <td>0.000000</td>\n",
       "    </tr>\n",
       "    <tr>\n",
       "      <th>25%</th>\n",
       "      <td>2006.000000</td>\n",
       "      <td>3.000000</td>\n",
       "      <td>0.000000</td>\n",
       "      <td>0.000000</td>\n",
       "      <td>0.00000</td>\n",
       "      <td>0.000000</td>\n",
       "      <td>0.000000</td>\n",
       "      <td>0.000000</td>\n",
       "      <td>0.000000</td>\n",
       "      <td>0.000000</td>\n",
       "      <td>...</td>\n",
       "      <td>0.000000</td>\n",
       "      <td>0.000000</td>\n",
       "      <td>0.000000</td>\n",
       "      <td>0.000000</td>\n",
       "      <td>0.000000</td>\n",
       "      <td>0.000000</td>\n",
       "      <td>0.000000</td>\n",
       "      <td>0.000000</td>\n",
       "      <td>0.000000</td>\n",
       "      <td>0.000000</td>\n",
       "    </tr>\n",
       "    <tr>\n",
       "      <th>50%</th>\n",
       "      <td>2008.000000</td>\n",
       "      <td>20.000000</td>\n",
       "      <td>0.000000</td>\n",
       "      <td>0.000000</td>\n",
       "      <td>0.00000</td>\n",
       "      <td>0.000000</td>\n",
       "      <td>0.000000</td>\n",
       "      <td>0.000000</td>\n",
       "      <td>0.000000</td>\n",
       "      <td>0.000000</td>\n",
       "      <td>...</td>\n",
       "      <td>0.000000</td>\n",
       "      <td>0.000000</td>\n",
       "      <td>0.000000</td>\n",
       "      <td>0.000000</td>\n",
       "      <td>0.000000</td>\n",
       "      <td>0.000000</td>\n",
       "      <td>0.000000</td>\n",
       "      <td>0.000000</td>\n",
       "      <td>0.000000</td>\n",
       "      <td>0.000000</td>\n",
       "    </tr>\n",
       "    <tr>\n",
       "      <th>75%</th>\n",
       "      <td>2008.000000</td>\n",
       "      <td>44.000000</td>\n",
       "      <td>0.000000</td>\n",
       "      <td>0.000000</td>\n",
       "      <td>0.00000</td>\n",
       "      <td>0.000000</td>\n",
       "      <td>0.000000</td>\n",
       "      <td>0.000000</td>\n",
       "      <td>0.000000</td>\n",
       "      <td>0.000000</td>\n",
       "      <td>...</td>\n",
       "      <td>0.000000</td>\n",
       "      <td>0.000000</td>\n",
       "      <td>1.000000</td>\n",
       "      <td>0.000000</td>\n",
       "      <td>0.000000</td>\n",
       "      <td>0.000000</td>\n",
       "      <td>0.000000</td>\n",
       "      <td>0.000000</td>\n",
       "      <td>0.000000</td>\n",
       "      <td>0.000000</td>\n",
       "    </tr>\n",
       "    <tr>\n",
       "      <th>max</th>\n",
       "      <td>2009.000000</td>\n",
       "      <td>605.000000</td>\n",
       "      <td>22.000000</td>\n",
       "      <td>9.000000</td>\n",
       "      <td>22.00000</td>\n",
       "      <td>17.000000</td>\n",
       "      <td>14.000000</td>\n",
       "      <td>31.000000</td>\n",
       "      <td>8.000000</td>\n",
       "      <td>14.000000</td>\n",
       "      <td>...</td>\n",
       "      <td>327.000000</td>\n",
       "      <td>12.000000</td>\n",
       "      <td>11.000000</td>\n",
       "      <td>8.000000</td>\n",
       "      <td>8.000000</td>\n",
       "      <td>8.000000</td>\n",
       "      <td>16.000000</td>\n",
       "      <td>14.000000</td>\n",
       "      <td>8.000000</td>\n",
       "      <td>16.000000</td>\n",
       "    </tr>\n",
       "  </tbody>\n",
       "</table>\n",
       "<p>8 rows × 38 columns</p>\n",
       "</div>"
      ],
      "text/plain": [
       "           gradyear  NumberOffriends    basketball      football       soccer  \\\n",
       "count  15000.000000     15000.000000  15000.000000  15000.000000  15000.00000   \n",
       "mean    2007.496933        29.834533      0.267000      0.255467      0.22200   \n",
       "std        1.116516        35.386649      0.788851      0.702260      0.92042   \n",
       "min     2006.000000         0.000000      0.000000      0.000000      0.00000   \n",
       "25%     2006.000000         3.000000      0.000000      0.000000      0.00000   \n",
       "50%     2008.000000        20.000000      0.000000      0.000000      0.00000   \n",
       "75%     2008.000000        44.000000      0.000000      0.000000      0.00000   \n",
       "max     2009.000000       605.000000     22.000000      9.000000     22.00000   \n",
       "\n",
       "           softball    volleyball      swimming  cheerleading      baseball  \\\n",
       "count  15000.000000  15000.000000  15000.000000  15000.000000  15000.000000   \n",
       "mean       0.159667      0.142933      0.135000      0.105133      0.104133   \n",
       "std        0.737344      0.638747      0.548691      0.502491      0.519205   \n",
       "min        0.000000      0.000000      0.000000      0.000000      0.000000   \n",
       "25%        0.000000      0.000000      0.000000      0.000000      0.000000   \n",
       "50%        0.000000      0.000000      0.000000      0.000000      0.000000   \n",
       "75%        0.000000      0.000000      0.000000      0.000000      0.000000   \n",
       "max       17.000000     14.000000     31.000000      8.000000     14.000000   \n",
       "\n",
       "       ...        blonde          mall      shopping       clothes  \\\n",
       "count  ...  15000.000000  15000.000000  15000.000000  15000.000000   \n",
       "mean   ...      0.112867      0.259467      0.357267      0.150267   \n",
       "std    ...      2.708619      0.704398      0.728512      0.478716   \n",
       "min    ...      0.000000      0.000000      0.000000      0.000000   \n",
       "25%    ...      0.000000      0.000000      0.000000      0.000000   \n",
       "50%    ...      0.000000      0.000000      0.000000      0.000000   \n",
       "75%    ...      0.000000      0.000000      1.000000      0.000000   \n",
       "max    ...    327.000000     12.000000     11.000000      8.000000   \n",
       "\n",
       "          hollister   abercrombie           die         death         drunk  \\\n",
       "count  15000.000000  15000.000000  15000.000000  15000.000000  15000.000000   \n",
       "mean       0.071800      0.051467      0.185867      0.118067      0.091733   \n",
       "std        0.356258      0.280755      0.609928      0.455200      0.420631   \n",
       "min        0.000000      0.000000      0.000000      0.000000      0.000000   \n",
       "25%        0.000000      0.000000      0.000000      0.000000      0.000000   \n",
       "50%        0.000000      0.000000      0.000000      0.000000      0.000000   \n",
       "75%        0.000000      0.000000      0.000000      0.000000      0.000000   \n",
       "max        8.000000      8.000000     16.000000     14.000000      8.000000   \n",
       "\n",
       "              drugs  \n",
       "count  15000.000000  \n",
       "mean       0.061067  \n",
       "std        0.349112  \n",
       "min        0.000000  \n",
       "25%        0.000000  \n",
       "50%        0.000000  \n",
       "75%        0.000000  \n",
       "max       16.000000  \n",
       "\n",
       "[8 rows x 38 columns]"
      ]
     },
     "execution_count": 4,
     "metadata": {},
     "output_type": "execute_result"
    }
   ],
   "source": [
    "data.describe()"
   ]
  },
  {
   "cell_type": "markdown",
   "id": "74187d18",
   "metadata": {
    "papermill": {
     "duration": 0.020472,
     "end_time": "2024-02-29T11:08:40.255256",
     "exception": false,
     "start_time": "2024-02-29T11:08:40.234784",
     "status": "completed"
    },
    "tags": []
   },
   "source": [
    "# 📌Treating Missing Values"
   ]
  },
  {
   "cell_type": "code",
   "execution_count": 5,
   "id": "37089cc4",
   "metadata": {
    "execution": {
     "iopub.execute_input": "2024-02-29T11:08:40.299820Z",
     "iopub.status.busy": "2024-02-29T11:08:40.299414Z",
     "iopub.status.idle": "2024-02-29T11:08:40.312840Z",
     "shell.execute_reply": "2024-02-29T11:08:40.311636Z"
    },
    "papermill": {
     "duration": 0.038085,
     "end_time": "2024-02-29T11:08:40.315133",
     "exception": false,
     "start_time": "2024-02-29T11:08:40.277048",
     "status": "completed"
    },
    "tags": []
   },
   "outputs": [
    {
     "data": {
      "text/plain": [
       "gradyear              0\n",
       "gender             1337\n",
       "age                2496\n",
       "NumberOffriends       0\n",
       "basketball            0\n",
       "football              0\n",
       "soccer                0\n",
       "softball              0\n",
       "volleyball            0\n",
       "swimming              0\n",
       "cheerleading          0\n",
       "baseball              0\n",
       "tennis                0\n",
       "sports                0\n",
       "cute                  0\n",
       "sex                   0\n",
       "sexy                  0\n",
       "hot                   0\n",
       "kissed                0\n",
       "dance                 0\n",
       "band                  0\n",
       "marching              0\n",
       "music                 0\n",
       "rock                  0\n",
       "god                   0\n",
       "church                0\n",
       "jesus                 0\n",
       "bible                 0\n",
       "hair                  0\n",
       "dress                 0\n",
       "blonde                0\n",
       "mall                  0\n",
       "shopping              0\n",
       "clothes               0\n",
       "hollister             0\n",
       "abercrombie           0\n",
       "die                   0\n",
       "death                 0\n",
       "drunk                 0\n",
       "drugs                 0\n",
       "dtype: int64"
      ]
     },
     "execution_count": 5,
     "metadata": {},
     "output_type": "execute_result"
    }
   ],
   "source": [
    "data.isnull().sum()"
   ]
  },
  {
   "cell_type": "markdown",
   "id": "96b0e3b6",
   "metadata": {
    "papermill": {
     "duration": 0.02154,
     "end_time": "2024-02-29T11:08:40.357631",
     "exception": false,
     "start_time": "2024-02-29T11:08:40.336091",
     "status": "completed"
    },
    "tags": []
   },
   "source": [
    "**A total of 2496 records have missing ages. Also concerning is the fact that the minimum and maximum values seem to be unreasonable; it is unlikely that a 3 year old or a 106 year old is attending high school.**"
   ]
  },
  {
   "cell_type": "markdown",
   "id": "07c24fab",
   "metadata": {
    "papermill": {
     "duration": 0.020551,
     "end_time": "2024-02-29T11:08:40.398937",
     "exception": false,
     "start_time": "2024-02-29T11:08:40.378386",
     "status": "completed"
    },
    "tags": []
   },
   "source": [
    "# 📌Let's have a look at the number of male, female and missing values"
   ]
  },
  {
   "cell_type": "code",
   "execution_count": 6,
   "id": "5fc8fbf1",
   "metadata": {
    "execution": {
     "iopub.execute_input": "2024-02-29T11:08:40.443036Z",
     "iopub.status.busy": "2024-02-29T11:08:40.441975Z",
     "iopub.status.idle": "2024-02-29T11:08:40.455292Z",
     "shell.execute_reply": "2024-02-29T11:08:40.454487Z"
    },
    "papermill": {
     "duration": 0.037763,
     "end_time": "2024-02-29T11:08:40.457460",
     "exception": false,
     "start_time": "2024-02-29T11:08:40.419697",
     "status": "completed"
    },
    "tags": []
   },
   "outputs": [
    {
     "data": {
      "text/plain": [
       "F      11057\n",
       "M       2606\n",
       "NaN     1337\n",
       "Name: gender, dtype: int64"
      ]
     },
     "execution_count": 6,
     "metadata": {},
     "output_type": "execute_result"
    }
   ],
   "source": [
    "data['gender'].value_counts(dropna = False) #display NaN values also"
   ]
  },
  {
   "cell_type": "markdown",
   "id": "ec943483",
   "metadata": {
    "papermill": {
     "duration": 0.020895,
     "end_time": "2024-02-29T11:08:40.500006",
     "exception": false,
     "start_time": "2024-02-29T11:08:40.479111",
     "status": "completed"
    },
    "tags": []
   },
   "source": [
    "**There are 11057 female, 2606 male teen students and 1337 missing values**"
   ]
  },
  {
   "cell_type": "markdown",
   "id": "03cf94e6",
   "metadata": {
    "papermill": {
     "duration": 0.020669,
     "end_time": "2024-02-29T11:08:40.541976",
     "exception": false,
     "start_time": "2024-02-29T11:08:40.521307",
     "status": "completed"
    },
    "tags": []
   },
   "source": [
    "# 📌Now fill all the null values in gender column with “Not disclosed”"
   ]
  },
  {
   "cell_type": "code",
   "execution_count": 7,
   "id": "4f0c483b",
   "metadata": {
    "execution": {
     "iopub.execute_input": "2024-02-29T11:08:40.586520Z",
     "iopub.status.busy": "2024-02-29T11:08:40.585716Z",
     "iopub.status.idle": "2024-02-29T11:08:40.593152Z",
     "shell.execute_reply": "2024-02-29T11:08:40.592003Z"
    },
    "papermill": {
     "duration": 0.032609,
     "end_time": "2024-02-29T11:08:40.595623",
     "exception": false,
     "start_time": "2024-02-29T11:08:40.563014",
     "status": "completed"
    },
    "tags": []
   },
   "outputs": [],
   "source": [
    "data['gender'].fillna('not disclosed', inplace = True)\n"
   ]
  },
  {
   "cell_type": "code",
   "execution_count": 8,
   "id": "ad24f255",
   "metadata": {
    "execution": {
     "iopub.execute_input": "2024-02-29T11:08:40.639473Z",
     "iopub.status.busy": "2024-02-29T11:08:40.639005Z",
     "iopub.status.idle": "2024-02-29T11:08:40.649000Z",
     "shell.execute_reply": "2024-02-29T11:08:40.647826Z"
    },
    "papermill": {
     "duration": 0.03505,
     "end_time": "2024-02-29T11:08:40.651601",
     "exception": false,
     "start_time": "2024-02-29T11:08:40.616551",
     "status": "completed"
    },
    "tags": []
   },
   "outputs": [
    {
     "data": {
      "text/plain": [
       "0"
      ]
     },
     "execution_count": 8,
     "metadata": {},
     "output_type": "execute_result"
    }
   ],
   "source": [
    "data['gender'].isnull().sum()"
   ]
  },
  {
   "cell_type": "code",
   "execution_count": 9,
   "id": "3a861c3d",
   "metadata": {
    "execution": {
     "iopub.execute_input": "2024-02-29T11:08:40.695760Z",
     "iopub.status.busy": "2024-02-29T11:08:40.695324Z",
     "iopub.status.idle": "2024-02-29T11:08:40.705915Z",
     "shell.execute_reply": "2024-02-29T11:08:40.704834Z"
    },
    "papermill": {
     "duration": 0.035647,
     "end_time": "2024-02-29T11:08:40.708422",
     "exception": false,
     "start_time": "2024-02-29T11:08:40.672775",
     "status": "completed"
    },
    "tags": []
   },
   "outputs": [
    {
     "data": {
      "text/plain": [
       "array(['not disclosed', 'F', 'M'], dtype=object)"
      ]
     },
     "execution_count": 9,
     "metadata": {},
     "output_type": "execute_result"
    }
   ],
   "source": [
    "data['gender'].unique()"
   ]
  },
  {
   "cell_type": "markdown",
   "id": "49833fe5",
   "metadata": {
    "papermill": {
     "duration": 0.022237,
     "end_time": "2024-02-29T11:08:40.752025",
     "exception": false,
     "start_time": "2024-02-29T11:08:40.729788",
     "status": "completed"
    },
    "tags": []
   },
   "source": [
    "# 📌One way to deal with these missing values would be to fill the missing values with the average age of each graduation year"
   ]
  },
  {
   "cell_type": "code",
   "execution_count": 10,
   "id": "cd11f38a",
   "metadata": {
    "execution": {
     "iopub.execute_input": "2024-02-29T11:08:40.796782Z",
     "iopub.status.busy": "2024-02-29T11:08:40.796388Z",
     "iopub.status.idle": "2024-02-29T11:08:40.812095Z",
     "shell.execute_reply": "2024-02-29T11:08:40.810849Z"
    },
    "papermill": {
     "duration": 0.041168,
     "end_time": "2024-02-29T11:08:40.814504",
     "exception": false,
     "start_time": "2024-02-29T11:08:40.773336",
     "status": "completed"
    },
    "tags": []
   },
   "outputs": [],
   "source": [
    "data['age'] = pd.to_numeric(data['age'], errors='coerce')"
   ]
  },
  {
   "cell_type": "code",
   "execution_count": 11,
   "id": "3eba2105",
   "metadata": {
    "execution": {
     "iopub.execute_input": "2024-02-29T11:08:40.859941Z",
     "iopub.status.busy": "2024-02-29T11:08:40.859520Z",
     "iopub.status.idle": "2024-02-29T11:08:40.874752Z",
     "shell.execute_reply": "2024-02-29T11:08:40.873712Z"
    },
    "papermill": {
     "duration": 0.041122,
     "end_time": "2024-02-29T11:08:40.877385",
     "exception": false,
     "start_time": "2024-02-29T11:08:40.836263",
     "status": "completed"
    },
    "tags": []
   },
   "outputs": [
    {
     "data": {
      "text/plain": [
       "gradyear\n",
       "2006    19.010786\n",
       "2007    18.400134\n",
       "2008    17.593006\n",
       "2009    16.886244\n",
       "Name: age, dtype: float64"
      ]
     },
     "execution_count": 11,
     "metadata": {},
     "output_type": "execute_result"
    }
   ],
   "source": [
    "data.groupby('gradyear')['age'].mean()"
   ]
  },
  {
   "cell_type": "markdown",
   "id": "41544f85",
   "metadata": {
    "papermill": {
     "duration": 0.021852,
     "end_time": "2024-02-29T11:08:40.921423",
     "exception": false,
     "start_time": "2024-02-29T11:08:40.899571",
     "status": "completed"
    },
    "tags": []
   },
   "source": [
    "# 📌Now fill the missing values for each graduation year with the mean that we got as above"
   ]
  },
  {
   "cell_type": "code",
   "execution_count": 12,
   "id": "948877ed",
   "metadata": {
    "execution": {
     "iopub.execute_input": "2024-02-29T11:08:41.031072Z",
     "iopub.status.busy": "2024-02-29T11:08:41.030597Z",
     "iopub.status.idle": "2024-02-29T11:08:41.048404Z",
     "shell.execute_reply": "2024-02-29T11:08:41.046756Z"
    },
    "papermill": {
     "duration": 0.044698,
     "end_time": "2024-02-29T11:08:41.051698",
     "exception": false,
     "start_time": "2024-02-29T11:08:41.007000",
     "status": "completed"
    },
    "tags": []
   },
   "outputs": [],
   "source": [
    "data['age'] = data.groupby('gradyear')['age'].transform(lambda x: x.fillna(x.mean()))"
   ]
  },
  {
   "cell_type": "code",
   "execution_count": 13,
   "id": "44332e55",
   "metadata": {
    "execution": {
     "iopub.execute_input": "2024-02-29T11:08:41.100369Z",
     "iopub.status.busy": "2024-02-29T11:08:41.099363Z",
     "iopub.status.idle": "2024-02-29T11:08:41.106635Z",
     "shell.execute_reply": "2024-02-29T11:08:41.105555Z"
    },
    "papermill": {
     "duration": 0.033769,
     "end_time": "2024-02-29T11:08:41.108958",
     "exception": false,
     "start_time": "2024-02-29T11:08:41.075189",
     "status": "completed"
    },
    "tags": []
   },
   "outputs": [
    {
     "data": {
      "text/plain": [
       "0"
      ]
     },
     "execution_count": 13,
     "metadata": {},
     "output_type": "execute_result"
    }
   ],
   "source": [
    "data['age'].isnull().sum()"
   ]
  },
  {
   "cell_type": "markdown",
   "id": "8a581478",
   "metadata": {
    "papermill": {
     "duration": 0.021879,
     "end_time": "2024-02-29T11:08:41.153329",
     "exception": false,
     "start_time": "2024-02-29T11:08:41.131450",
     "status": "completed"
    },
    "tags": []
   },
   "source": [
    "**From the above summary we can see that there are no missing values in the dataset**"
   ]
  },
  {
   "cell_type": "markdown",
   "id": "5e8c0e6d",
   "metadata": {
    "papermill": {
     "duration": 0.022193,
     "end_time": "2024-02-29T11:08:41.198641",
     "exception": false,
     "start_time": "2024-02-29T11:08:41.176448",
     "status": "completed"
    },
    "tags": []
   },
   "source": [
    "# 📌Treating Outliers"
   ]
  },
  {
   "cell_type": "markdown",
   "id": "348c7c6c",
   "metadata": {
    "papermill": {
     "duration": 0.021652,
     "end_time": "2024-02-29T11:08:41.242492",
     "exception": false,
     "start_time": "2024-02-29T11:08:41.220840",
     "status": "completed"
    },
    "tags": []
   },
   "source": [
    "**The original age range contains value from 3 - 106, which is unrealistic because student at age of 3 or 106 would not attend high school. A reasonable age range for people attending high school will be the age range between 13 to 21. The rest should be treated as outliers keeping the age of student going to high school in mind.\n",
    "\n",
    "**Let's detect the outliers using a box plot below**"
   ]
  },
  {
   "cell_type": "code",
   "execution_count": 14,
   "id": "2c91e351",
   "metadata": {
    "execution": {
     "iopub.execute_input": "2024-02-29T11:08:41.290164Z",
     "iopub.status.busy": "2024-02-29T11:08:41.289740Z",
     "iopub.status.idle": "2024-02-29T11:08:41.606332Z",
     "shell.execute_reply": "2024-02-29T11:08:41.605148Z"
    },
    "papermill": {
     "duration": 0.343797,
     "end_time": "2024-02-29T11:08:41.609055",
     "exception": false,
     "start_time": "2024-02-29T11:08:41.265258",
     "status": "completed"
    },
    "tags": []
   },
   "outputs": [
    {
     "data": {
      "image/png": "[encoded data removed]",
      "text/plain": [
       "<Figure size 640x480 with 1 Axes>"
      ]
     },
     "metadata": {},
     "output_type": "display_data"
    }
   ],
   "source": [
    "sns.boxplot(data['age'])\n",
    "plt.show()"
   ]
  },
  {
   "cell_type": "code",
   "execution_count": 15,
   "id": "5ebb7248",
   "metadata": {
    "execution": {
     "iopub.execute_input": "2024-02-29T11:08:41.656650Z",
     "iopub.status.busy": "2024-02-29T11:08:41.656192Z",
     "iopub.status.idle": "2024-02-29T11:08:41.665618Z",
     "shell.execute_reply": "2024-02-29T11:08:41.664275Z"
    },
    "papermill": {
     "duration": 0.036323,
     "end_time": "2024-02-29T11:08:41.668133",
     "exception": false,
     "start_time": "2024-02-29T11:08:41.631810",
     "status": "completed"
    },
    "tags": []
   },
   "outputs": [
    {
     "name": "stdout",
     "output_type": "stream",
     "text": [
      "1.855134201954396\n"
     ]
    }
   ],
   "source": [
    "q1 = data['age'].quantile(0.25)\n",
    "q3 = data['age'].quantile(0.75)\n",
    "iqr = q3-q1\n",
    "print(iqr)"
   ]
  },
  {
   "cell_type": "code",
   "execution_count": 16,
   "id": "4fed54b9",
   "metadata": {
    "execution": {
     "iopub.execute_input": "2024-02-29T11:08:41.717533Z",
     "iopub.status.busy": "2024-02-29T11:08:41.716968Z",
     "iopub.status.idle": "2024-02-29T11:08:41.732302Z",
     "shell.execute_reply": "2024-02-29T11:08:41.730883Z"
    },
    "papermill": {
     "duration": 0.04364,
     "end_time": "2024-02-29T11:08:41.734953",
     "exception": false,
     "start_time": "2024-02-29T11:08:41.691313",
     "status": "completed"
    },
    "tags": []
   },
   "outputs": [],
   "source": [
    "df = data[(data['age'] > (q1 - 1.5*iqr)) & (data['age'] < (q3 + 1.5*iqr))]"
   ]
  },
  {
   "cell_type": "code",
   "execution_count": 17,
   "id": "fe04db0a",
   "metadata": {
    "execution": {
     "iopub.execute_input": "2024-02-29T11:08:41.794373Z",
     "iopub.status.busy": "2024-02-29T11:08:41.793660Z",
     "iopub.status.idle": "2024-02-29T11:08:41.805627Z",
     "shell.execute_reply": "2024-02-29T11:08:41.804317Z"
    },
    "papermill": {
     "duration": 0.043861,
     "end_time": "2024-02-29T11:08:41.809091",
     "exception": false,
     "start_time": "2024-02-29T11:08:41.765230",
     "status": "completed"
    },
    "tags": []
   },
   "outputs": [
    {
     "data": {
      "text/plain": [
       "count    14824.000000\n",
       "mean        17.392977\n",
       "std          1.134571\n",
       "min         13.843000\n",
       "25%         16.539000\n",
       "50%         17.446000\n",
       "75%         18.400134\n",
       "max         21.065000\n",
       "Name: age, dtype: float64"
      ]
     },
     "execution_count": 17,
     "metadata": {},
     "output_type": "execute_result"
    }
   ],
   "source": [
    "df['age'].describe()"
   ]
  },
  {
   "cell_type": "markdown",
   "id": "15dde935",
   "metadata": {
    "papermill": {
     "duration": 0.027171,
     "end_time": "2024-02-29T11:08:41.864636",
     "exception": false,
     "start_time": "2024-02-29T11:08:41.837465",
     "status": "completed"
    },
    "tags": []
   },
   "source": [
    "**From the above summary we can observe that after treating the outliers the mininmum age is 13.843000 and the maximum age is 21.065000**"
   ]
  },
  {
   "cell_type": "code",
   "execution_count": 18,
   "id": "249d1a57",
   "metadata": {
    "execution": {
     "iopub.execute_input": "2024-02-29T11:08:41.918379Z",
     "iopub.status.busy": "2024-02-29T11:08:41.917187Z",
     "iopub.status.idle": "2024-02-29T11:08:41.923896Z",
     "shell.execute_reply": "2024-02-29T11:08:41.922783Z"
    },
    "papermill": {
     "duration": 0.033217,
     "end_time": "2024-02-29T11:08:41.926086",
     "exception": false,
     "start_time": "2024-02-29T11:08:41.892869",
     "status": "completed"
    },
    "tags": []
   },
   "outputs": [
    {
     "data": {
      "text/plain": [
       "(14824, 40)"
      ]
     },
     "execution_count": 18,
     "metadata": {},
     "output_type": "execute_result"
    }
   ],
   "source": [
    "df.shape"
   ]
  },
  {
   "cell_type": "code",
   "execution_count": 19,
   "id": "ce432011",
   "metadata": {
    "execution": {
     "iopub.execute_input": "2024-02-29T11:08:41.975130Z",
     "iopub.status.busy": "2024-02-29T11:08:41.973844Z",
     "iopub.status.idle": "2024-02-29T11:08:42.205510Z",
     "shell.execute_reply": "2024-02-29T11:08:42.204320Z"
    },
    "papermill": {
     "duration": 0.258589,
     "end_time": "2024-02-29T11:08:42.207987",
     "exception": false,
     "start_time": "2024-02-29T11:08:41.949398",
     "status": "completed"
    },
    "tags": []
   },
   "outputs": [
    {
     "data": {
      "image/png": "[encoded data removed]",
      "text/plain": [
       "<Figure size 640x480 with 1 Axes>"
      ]
     },
     "metadata": {},
     "output_type": "display_data"
    }
   ],
   "source": [
    "sns.boxplot(df[\"age\"])\n",
    "plt.show()"
   ]
  },
  {
   "cell_type": "markdown",
   "id": "4591c2ce",
   "metadata": {
    "papermill": {
     "duration": 0.026082,
     "end_time": "2024-02-29T11:08:42.258166",
     "exception": false,
     "start_time": "2024-02-29T11:08:42.232084",
     "status": "completed"
    },
    "tags": []
   },
   "source": [
    "**From the above boxplot we observe that there are no outliers in the age column**"
   ]
  },
  {
   "cell_type": "markdown",
   "id": "b74cafdd",
   "metadata": {
    "papermill": {
     "duration": 0.024647,
     "end_time": "2024-02-29T11:08:42.306943",
     "exception": false,
     "start_time": "2024-02-29T11:08:42.282296",
     "status": "completed"
    },
    "tags": []
   },
   "source": [
    "# 📌Data Preprocessing"
   ]
  },
  {
   "cell_type": "code",
   "execution_count": 20,
   "id": "638b30df",
   "metadata": {
    "execution": {
     "iopub.execute_input": "2024-02-29T11:08:42.356473Z",
     "iopub.status.busy": "2024-02-29T11:08:42.355688Z",
     "iopub.status.idle": "2024-02-29T11:08:42.366859Z",
     "shell.execute_reply": "2024-02-29T11:08:42.365710Z"
    },
    "papermill": {
     "duration": 0.039174,
     "end_time": "2024-02-29T11:08:42.369264",
     "exception": false,
     "start_time": "2024-02-29T11:08:42.330090",
     "status": "completed"
    },
    "tags": []
   },
   "outputs": [
    {
     "data": {
      "text/plain": [
       "Index(['basketball', 'football', 'soccer', 'softball', 'volleyball',\n",
       "       'swimming', 'cheerleading', 'baseball', 'tennis', 'sports', 'cute',\n",
       "       'sex', 'sexy', 'hot', 'kissed', 'dance', 'band', 'marching', 'music',\n",
       "       'rock', 'god', 'church', 'jesus', 'bible', 'hair', 'dress', 'blonde',\n",
       "       'mall', 'shopping', 'clothes', 'hollister', 'abercrombie', 'die',\n",
       "       'death', 'drunk', 'drugs'],\n",
       "      dtype='object')"
      ]
     },
     "execution_count": 20,
     "metadata": {},
     "output_type": "execute_result"
    }
   ],
   "source": [
    "names = df.columns[4:40]\n",
    "scaled_feature = data.copy()\n",
    "names"
   ]
  },
  {
   "cell_type": "code",
   "execution_count": 21,
   "id": "cbdb9e4f",
   "metadata": {
    "execution": {
     "iopub.execute_input": "2024-02-29T11:08:42.418913Z",
     "iopub.status.busy": "2024-02-29T11:08:42.418148Z",
     "iopub.status.idle": "2024-02-29T11:08:42.445738Z",
     "shell.execute_reply": "2024-02-29T11:08:42.444514Z"
    },
    "papermill": {
     "duration": 0.055413,
     "end_time": "2024-02-29T11:08:42.448221",
     "exception": false,
     "start_time": "2024-02-29T11:08:42.392808",
     "status": "completed"
    },
    "tags": []
   },
   "outputs": [
    {
     "data": {
      "text/html": [
       "<div>\n",
       "<style scoped>\n",
       "    .dataframe tbody tr th:only-of-type {\n",
       "        vertical-align: middle;\n",
       "    }\n",
       "\n",
       "    .dataframe tbody tr th {\n",
       "        vertical-align: top;\n",
       "    }\n",
       "\n",
       "    .dataframe thead th {\n",
       "        text-align: right;\n",
       "    }\n",
       "</style>\n",
       "<table border=\"1\" class=\"dataframe\">\n",
       "  <thead>\n",
       "    <tr style=\"text-align: right;\">\n",
       "      <th></th>\n",
       "      <th>gradyear</th>\n",
       "      <th>gender</th>\n",
       "      <th>age</th>\n",
       "      <th>NumberOffriends</th>\n",
       "      <th>basketball</th>\n",
       "      <th>football</th>\n",
       "      <th>soccer</th>\n",
       "      <th>softball</th>\n",
       "      <th>volleyball</th>\n",
       "      <th>swimming</th>\n",
       "      <th>...</th>\n",
       "      <th>blonde</th>\n",
       "      <th>mall</th>\n",
       "      <th>shopping</th>\n",
       "      <th>clothes</th>\n",
       "      <th>hollister</th>\n",
       "      <th>abercrombie</th>\n",
       "      <th>die</th>\n",
       "      <th>death</th>\n",
       "      <th>drunk</th>\n",
       "      <th>drugs</th>\n",
       "    </tr>\n",
       "  </thead>\n",
       "  <tbody>\n",
       "    <tr>\n",
       "      <th>0</th>\n",
       "      <td>2007</td>\n",
       "      <td>not disclosed</td>\n",
       "      <td>18.400134</td>\n",
       "      <td>0</td>\n",
       "      <td>0</td>\n",
       "      <td>0</td>\n",
       "      <td>0</td>\n",
       "      <td>0</td>\n",
       "      <td>0</td>\n",
       "      <td>0</td>\n",
       "      <td>...</td>\n",
       "      <td>0</td>\n",
       "      <td>0</td>\n",
       "      <td>0</td>\n",
       "      <td>0</td>\n",
       "      <td>0</td>\n",
       "      <td>0</td>\n",
       "      <td>0</td>\n",
       "      <td>0</td>\n",
       "      <td>0</td>\n",
       "      <td>0</td>\n",
       "    </tr>\n",
       "    <tr>\n",
       "      <th>1</th>\n",
       "      <td>2007</td>\n",
       "      <td>F</td>\n",
       "      <td>17.410000</td>\n",
       "      <td>49</td>\n",
       "      <td>0</td>\n",
       "      <td>0</td>\n",
       "      <td>1</td>\n",
       "      <td>0</td>\n",
       "      <td>0</td>\n",
       "      <td>1</td>\n",
       "      <td>...</td>\n",
       "      <td>0</td>\n",
       "      <td>0</td>\n",
       "      <td>0</td>\n",
       "      <td>0</td>\n",
       "      <td>0</td>\n",
       "      <td>0</td>\n",
       "      <td>0</td>\n",
       "      <td>0</td>\n",
       "      <td>1</td>\n",
       "      <td>0</td>\n",
       "    </tr>\n",
       "    <tr>\n",
       "      <th>2</th>\n",
       "      <td>2007</td>\n",
       "      <td>F</td>\n",
       "      <td>17.511000</td>\n",
       "      <td>41</td>\n",
       "      <td>0</td>\n",
       "      <td>0</td>\n",
       "      <td>0</td>\n",
       "      <td>0</td>\n",
       "      <td>0</td>\n",
       "      <td>0</td>\n",
       "      <td>...</td>\n",
       "      <td>0</td>\n",
       "      <td>1</td>\n",
       "      <td>0</td>\n",
       "      <td>0</td>\n",
       "      <td>0</td>\n",
       "      <td>0</td>\n",
       "      <td>0</td>\n",
       "      <td>0</td>\n",
       "      <td>1</td>\n",
       "      <td>1</td>\n",
       "    </tr>\n",
       "    <tr>\n",
       "      <th>3</th>\n",
       "      <td>2006</td>\n",
       "      <td>F</td>\n",
       "      <td>19.010786</td>\n",
       "      <td>36</td>\n",
       "      <td>0</td>\n",
       "      <td>0</td>\n",
       "      <td>0</td>\n",
       "      <td>0</td>\n",
       "      <td>0</td>\n",
       "      <td>0</td>\n",
       "      <td>...</td>\n",
       "      <td>0</td>\n",
       "      <td>0</td>\n",
       "      <td>0</td>\n",
       "      <td>0</td>\n",
       "      <td>0</td>\n",
       "      <td>0</td>\n",
       "      <td>0</td>\n",
       "      <td>0</td>\n",
       "      <td>0</td>\n",
       "      <td>0</td>\n",
       "    </tr>\n",
       "    <tr>\n",
       "      <th>4</th>\n",
       "      <td>2008</td>\n",
       "      <td>F</td>\n",
       "      <td>16.657000</td>\n",
       "      <td>1</td>\n",
       "      <td>0</td>\n",
       "      <td>0</td>\n",
       "      <td>0</td>\n",
       "      <td>0</td>\n",
       "      <td>0</td>\n",
       "      <td>1</td>\n",
       "      <td>...</td>\n",
       "      <td>0</td>\n",
       "      <td>0</td>\n",
       "      <td>0</td>\n",
       "      <td>3</td>\n",
       "      <td>0</td>\n",
       "      <td>0</td>\n",
       "      <td>0</td>\n",
       "      <td>0</td>\n",
       "      <td>0</td>\n",
       "      <td>0</td>\n",
       "    </tr>\n",
       "  </tbody>\n",
       "</table>\n",
       "<p>5 rows × 40 columns</p>\n",
       "</div>"
      ],
      "text/plain": [
       "   gradyear         gender        age  NumberOffriends  basketball  football  \\\n",
       "0      2007  not disclosed  18.400134                0           0         0   \n",
       "1      2007              F  17.410000               49           0         0   \n",
       "2      2007              F  17.511000               41           0         0   \n",
       "3      2006              F  19.010786               36           0         0   \n",
       "4      2008              F  16.657000                1           0         0   \n",
       "\n",
       "   soccer  softball  volleyball  swimming  ...  blonde  mall  shopping  \\\n",
       "0       0         0           0         0  ...       0     0         0   \n",
       "1       1         0           0         1  ...       0     0         0   \n",
       "2       0         0           0         0  ...       0     1         0   \n",
       "3       0         0           0         0  ...       0     0         0   \n",
       "4       0         0           0         1  ...       0     0         0   \n",
       "\n",
       "   clothes  hollister  abercrombie  die  death  drunk  drugs  \n",
       "0        0          0            0    0      0      0      0  \n",
       "1        0          0            0    0      0      1      0  \n",
       "2        0          0            0    0      0      1      1  \n",
       "3        0          0            0    0      0      0      0  \n",
       "4        3          0            0    0      0      0      0  \n",
       "\n",
       "[5 rows x 40 columns]"
      ]
     },
     "execution_count": 21,
     "metadata": {},
     "output_type": "execute_result"
    }
   ],
   "source": [
    "scaled_feature.head()"
   ]
  },
  {
   "cell_type": "code",
   "execution_count": 22,
   "id": "cb58538f",
   "metadata": {
    "execution": {
     "iopub.execute_input": "2024-02-29T11:08:42.499472Z",
     "iopub.status.busy": "2024-02-29T11:08:42.498382Z",
     "iopub.status.idle": "2024-02-29T11:08:42.507531Z",
     "shell.execute_reply": "2024-02-29T11:08:42.506521Z"
    },
    "papermill": {
     "duration": 0.03753,
     "end_time": "2024-02-29T11:08:42.510285",
     "exception": false,
     "start_time": "2024-02-29T11:08:42.472755",
     "status": "completed"
    },
    "tags": []
   },
   "outputs": [],
   "source": [
    "features = scaled_feature[names]"
   ]
  },
  {
   "cell_type": "code",
   "execution_count": 23,
   "id": "bd49b6a6",
   "metadata": {
    "execution": {
     "iopub.execute_input": "2024-02-29T11:08:42.560910Z",
     "iopub.status.busy": "2024-02-29T11:08:42.560503Z",
     "iopub.status.idle": "2024-02-29T11:08:42.589181Z",
     "shell.execute_reply": "2024-02-29T11:08:42.587407Z"
    },
    "papermill": {
     "duration": 0.057013,
     "end_time": "2024-02-29T11:08:42.591723",
     "exception": false,
     "start_time": "2024-02-29T11:08:42.534710",
     "status": "completed"
    },
    "tags": []
   },
   "outputs": [
    {
     "data": {
      "text/html": [
       "<div>\n",
       "<style scoped>\n",
       "    .dataframe tbody tr th:only-of-type {\n",
       "        vertical-align: middle;\n",
       "    }\n",
       "\n",
       "    .dataframe tbody tr th {\n",
       "        vertical-align: top;\n",
       "    }\n",
       "\n",
       "    .dataframe thead th {\n",
       "        text-align: right;\n",
       "    }\n",
       "</style>\n",
       "<table border=\"1\" class=\"dataframe\">\n",
       "  <thead>\n",
       "    <tr style=\"text-align: right;\">\n",
       "      <th></th>\n",
       "      <th>basketball</th>\n",
       "      <th>football</th>\n",
       "      <th>soccer</th>\n",
       "      <th>softball</th>\n",
       "      <th>volleyball</th>\n",
       "      <th>swimming</th>\n",
       "      <th>cheerleading</th>\n",
       "      <th>baseball</th>\n",
       "      <th>tennis</th>\n",
       "      <th>sports</th>\n",
       "      <th>...</th>\n",
       "      <th>blonde</th>\n",
       "      <th>mall</th>\n",
       "      <th>shopping</th>\n",
       "      <th>clothes</th>\n",
       "      <th>hollister</th>\n",
       "      <th>abercrombie</th>\n",
       "      <th>die</th>\n",
       "      <th>death</th>\n",
       "      <th>drunk</th>\n",
       "      <th>drugs</th>\n",
       "    </tr>\n",
       "  </thead>\n",
       "  <tbody>\n",
       "    <tr>\n",
       "      <th>0</th>\n",
       "      <td>0</td>\n",
       "      <td>0</td>\n",
       "      <td>0</td>\n",
       "      <td>0</td>\n",
       "      <td>0</td>\n",
       "      <td>0</td>\n",
       "      <td>0</td>\n",
       "      <td>0</td>\n",
       "      <td>0</td>\n",
       "      <td>0</td>\n",
       "      <td>...</td>\n",
       "      <td>0</td>\n",
       "      <td>0</td>\n",
       "      <td>0</td>\n",
       "      <td>0</td>\n",
       "      <td>0</td>\n",
       "      <td>0</td>\n",
       "      <td>0</td>\n",
       "      <td>0</td>\n",
       "      <td>0</td>\n",
       "      <td>0</td>\n",
       "    </tr>\n",
       "    <tr>\n",
       "      <th>1</th>\n",
       "      <td>0</td>\n",
       "      <td>0</td>\n",
       "      <td>1</td>\n",
       "      <td>0</td>\n",
       "      <td>0</td>\n",
       "      <td>1</td>\n",
       "      <td>0</td>\n",
       "      <td>0</td>\n",
       "      <td>0</td>\n",
       "      <td>0</td>\n",
       "      <td>...</td>\n",
       "      <td>0</td>\n",
       "      <td>0</td>\n",
       "      <td>0</td>\n",
       "      <td>0</td>\n",
       "      <td>0</td>\n",
       "      <td>0</td>\n",
       "      <td>0</td>\n",
       "      <td>0</td>\n",
       "      <td>1</td>\n",
       "      <td>0</td>\n",
       "    </tr>\n",
       "    <tr>\n",
       "      <th>2</th>\n",
       "      <td>0</td>\n",
       "      <td>0</td>\n",
       "      <td>0</td>\n",
       "      <td>0</td>\n",
       "      <td>0</td>\n",
       "      <td>0</td>\n",
       "      <td>0</td>\n",
       "      <td>1</td>\n",
       "      <td>0</td>\n",
       "      <td>0</td>\n",
       "      <td>...</td>\n",
       "      <td>0</td>\n",
       "      <td>1</td>\n",
       "      <td>0</td>\n",
       "      <td>0</td>\n",
       "      <td>0</td>\n",
       "      <td>0</td>\n",
       "      <td>0</td>\n",
       "      <td>0</td>\n",
       "      <td>1</td>\n",
       "      <td>1</td>\n",
       "    </tr>\n",
       "    <tr>\n",
       "      <th>3</th>\n",
       "      <td>0</td>\n",
       "      <td>0</td>\n",
       "      <td>0</td>\n",
       "      <td>0</td>\n",
       "      <td>0</td>\n",
       "      <td>0</td>\n",
       "      <td>0</td>\n",
       "      <td>0</td>\n",
       "      <td>0</td>\n",
       "      <td>0</td>\n",
       "      <td>...</td>\n",
       "      <td>0</td>\n",
       "      <td>0</td>\n",
       "      <td>0</td>\n",
       "      <td>0</td>\n",
       "      <td>0</td>\n",
       "      <td>0</td>\n",
       "      <td>0</td>\n",
       "      <td>0</td>\n",
       "      <td>0</td>\n",
       "      <td>0</td>\n",
       "    </tr>\n",
       "    <tr>\n",
       "      <th>4</th>\n",
       "      <td>0</td>\n",
       "      <td>0</td>\n",
       "      <td>0</td>\n",
       "      <td>0</td>\n",
       "      <td>0</td>\n",
       "      <td>1</td>\n",
       "      <td>0</td>\n",
       "      <td>0</td>\n",
       "      <td>3</td>\n",
       "      <td>0</td>\n",
       "      <td>...</td>\n",
       "      <td>0</td>\n",
       "      <td>0</td>\n",
       "      <td>0</td>\n",
       "      <td>3</td>\n",
       "      <td>0</td>\n",
       "      <td>0</td>\n",
       "      <td>0</td>\n",
       "      <td>0</td>\n",
       "      <td>0</td>\n",
       "      <td>0</td>\n",
       "    </tr>\n",
       "  </tbody>\n",
       "</table>\n",
       "<p>5 rows × 36 columns</p>\n",
       "</div>"
      ],
      "text/plain": [
       "   basketball  football  soccer  softball  volleyball  swimming  cheerleading  \\\n",
       "0           0         0       0         0           0         0             0   \n",
       "1           0         0       1         0           0         1             0   \n",
       "2           0         0       0         0           0         0             0   \n",
       "3           0         0       0         0           0         0             0   \n",
       "4           0         0       0         0           0         1             0   \n",
       "\n",
       "   baseball  tennis  sports  ...  blonde  mall  shopping  clothes  hollister  \\\n",
       "0         0       0       0  ...       0     0         0        0          0   \n",
       "1         0       0       0  ...       0     0         0        0          0   \n",
       "2         1       0       0  ...       0     1         0        0          0   \n",
       "3         0       0       0  ...       0     0         0        0          0   \n",
       "4         0       3       0  ...       0     0         0        3          0   \n",
       "\n",
       "   abercrombie  die  death  drunk  drugs  \n",
       "0            0    0      0      0      0  \n",
       "1            0    0      0      1      0  \n",
       "2            0    0      0      1      1  \n",
       "3            0    0      0      0      0  \n",
       "4            0    0      0      0      0  \n",
       "\n",
       "[5 rows x 36 columns]"
      ]
     },
     "execution_count": 23,
     "metadata": {},
     "output_type": "execute_result"
    }
   ],
   "source": [
    "features.head()"
   ]
  },
  {
   "cell_type": "code",
   "execution_count": 24,
   "id": "19ad099d",
   "metadata": {
    "execution": {
     "iopub.execute_input": "2024-02-29T11:08:42.650066Z",
     "iopub.status.busy": "2024-02-29T11:08:42.648794Z",
     "iopub.status.idle": "2024-02-29T11:08:42.864429Z",
     "shell.execute_reply": "2024-02-29T11:08:42.863189Z"
    },
    "papermill": {
     "duration": 0.247617,
     "end_time": "2024-02-29T11:08:42.867332",
     "exception": false,
     "start_time": "2024-02-29T11:08:42.619715",
     "status": "completed"
    },
    "tags": []
   },
   "outputs": [],
   "source": [
    "from sklearn.preprocessing import StandardScaler\n",
    "scaler = StandardScaler().fit(features.values)"
   ]
  },
  {
   "cell_type": "code",
   "execution_count": 25,
   "id": "c03e0dfc",
   "metadata": {
    "execution": {
     "iopub.execute_input": "2024-02-29T11:08:42.919819Z",
     "iopub.status.busy": "2024-02-29T11:08:42.919254Z",
     "iopub.status.idle": "2024-02-29T11:08:42.925933Z",
     "shell.execute_reply": "2024-02-29T11:08:42.925060Z"
    },
    "papermill": {
     "duration": 0.035861,
     "end_time": "2024-02-29T11:08:42.928887",
     "exception": false,
     "start_time": "2024-02-29T11:08:42.893026",
     "status": "completed"
    },
    "tags": []
   },
   "outputs": [],
   "source": [
    "features = scaler.transform(features.values)"
   ]
  },
  {
   "cell_type": "code",
   "execution_count": 26,
   "id": "5c4159db",
   "metadata": {
    "execution": {
     "iopub.execute_input": "2024-02-29T11:08:42.980582Z",
     "iopub.status.busy": "2024-02-29T11:08:42.979750Z",
     "iopub.status.idle": "2024-02-29T11:08:43.027067Z",
     "shell.execute_reply": "2024-02-29T11:08:43.025828Z"
    },
    "papermill": {
     "duration": 0.076564,
     "end_time": "2024-02-29T11:08:43.030124",
     "exception": false,
     "start_time": "2024-02-29T11:08:42.953560",
     "status": "completed"
    },
    "tags": []
   },
   "outputs": [
    {
     "data": {
      "text/html": [
       "<div>\n",
       "<style scoped>\n",
       "    .dataframe tbody tr th:only-of-type {\n",
       "        vertical-align: middle;\n",
       "    }\n",
       "\n",
       "    .dataframe tbody tr th {\n",
       "        vertical-align: top;\n",
       "    }\n",
       "\n",
       "    .dataframe thead th {\n",
       "        text-align: right;\n",
       "    }\n",
       "</style>\n",
       "<table border=\"1\" class=\"dataframe\">\n",
       "  <thead>\n",
       "    <tr style=\"text-align: right;\">\n",
       "      <th></th>\n",
       "      <th>gradyear</th>\n",
       "      <th>gender</th>\n",
       "      <th>age</th>\n",
       "      <th>NumberOffriends</th>\n",
       "      <th>basketball</th>\n",
       "      <th>football</th>\n",
       "      <th>soccer</th>\n",
       "      <th>softball</th>\n",
       "      <th>volleyball</th>\n",
       "      <th>swimming</th>\n",
       "      <th>...</th>\n",
       "      <th>blonde</th>\n",
       "      <th>mall</th>\n",
       "      <th>shopping</th>\n",
       "      <th>clothes</th>\n",
       "      <th>hollister</th>\n",
       "      <th>abercrombie</th>\n",
       "      <th>die</th>\n",
       "      <th>death</th>\n",
       "      <th>drunk</th>\n",
       "      <th>drugs</th>\n",
       "    </tr>\n",
       "  </thead>\n",
       "  <tbody>\n",
       "    <tr>\n",
       "      <th>0</th>\n",
       "      <td>2007</td>\n",
       "      <td>not disclosed</td>\n",
       "      <td>18.400134</td>\n",
       "      <td>0</td>\n",
       "      <td>-0.338478</td>\n",
       "      <td>-0.36379</td>\n",
       "      <td>-0.241202</td>\n",
       "      <td>-0.21655</td>\n",
       "      <td>-0.223779</td>\n",
       "      <td>-0.246048</td>\n",
       "      <td>...</td>\n",
       "      <td>-0.041671</td>\n",
       "      <td>-0.368365</td>\n",
       "      <td>-0.490423</td>\n",
       "      <td>-0.313906</td>\n",
       "      <td>-0.201546</td>\n",
       "      <td>-0.183322</td>\n",
       "      <td>-0.304746</td>\n",
       "      <td>-0.259382</td>\n",
       "      <td>-0.218093</td>\n",
       "      <td>-0.174926</td>\n",
       "    </tr>\n",
       "    <tr>\n",
       "      <th>1</th>\n",
       "      <td>2007</td>\n",
       "      <td>F</td>\n",
       "      <td>17.410000</td>\n",
       "      <td>49</td>\n",
       "      <td>-0.338478</td>\n",
       "      <td>-0.36379</td>\n",
       "      <td>0.845295</td>\n",
       "      <td>-0.21655</td>\n",
       "      <td>-0.223779</td>\n",
       "      <td>1.576532</td>\n",
       "      <td>...</td>\n",
       "      <td>-0.041671</td>\n",
       "      <td>-0.368365</td>\n",
       "      <td>-0.490423</td>\n",
       "      <td>-0.313906</td>\n",
       "      <td>-0.201546</td>\n",
       "      <td>-0.183322</td>\n",
       "      <td>-0.304746</td>\n",
       "      <td>-0.259382</td>\n",
       "      <td>2.159369</td>\n",
       "      <td>-0.174926</td>\n",
       "    </tr>\n",
       "    <tr>\n",
       "      <th>2</th>\n",
       "      <td>2007</td>\n",
       "      <td>F</td>\n",
       "      <td>17.511000</td>\n",
       "      <td>41</td>\n",
       "      <td>-0.338478</td>\n",
       "      <td>-0.36379</td>\n",
       "      <td>-0.241202</td>\n",
       "      <td>-0.21655</td>\n",
       "      <td>-0.223779</td>\n",
       "      <td>-0.246048</td>\n",
       "      <td>...</td>\n",
       "      <td>-0.041671</td>\n",
       "      <td>1.051334</td>\n",
       "      <td>-0.490423</td>\n",
       "      <td>-0.313906</td>\n",
       "      <td>-0.201546</td>\n",
       "      <td>-0.183322</td>\n",
       "      <td>-0.304746</td>\n",
       "      <td>-0.259382</td>\n",
       "      <td>2.159369</td>\n",
       "      <td>2.689582</td>\n",
       "    </tr>\n",
       "    <tr>\n",
       "      <th>3</th>\n",
       "      <td>2006</td>\n",
       "      <td>F</td>\n",
       "      <td>19.010786</td>\n",
       "      <td>36</td>\n",
       "      <td>-0.338478</td>\n",
       "      <td>-0.36379</td>\n",
       "      <td>-0.241202</td>\n",
       "      <td>-0.21655</td>\n",
       "      <td>-0.223779</td>\n",
       "      <td>-0.246048</td>\n",
       "      <td>...</td>\n",
       "      <td>-0.041671</td>\n",
       "      <td>-0.368365</td>\n",
       "      <td>-0.490423</td>\n",
       "      <td>-0.313906</td>\n",
       "      <td>-0.201546</td>\n",
       "      <td>-0.183322</td>\n",
       "      <td>-0.304746</td>\n",
       "      <td>-0.259382</td>\n",
       "      <td>-0.218093</td>\n",
       "      <td>-0.174926</td>\n",
       "    </tr>\n",
       "    <tr>\n",
       "      <th>4</th>\n",
       "      <td>2008</td>\n",
       "      <td>F</td>\n",
       "      <td>16.657000</td>\n",
       "      <td>1</td>\n",
       "      <td>-0.338478</td>\n",
       "      <td>-0.36379</td>\n",
       "      <td>-0.241202</td>\n",
       "      <td>-0.21655</td>\n",
       "      <td>-0.223779</td>\n",
       "      <td>1.576532</td>\n",
       "      <td>...</td>\n",
       "      <td>-0.041671</td>\n",
       "      <td>-0.368365</td>\n",
       "      <td>-0.490423</td>\n",
       "      <td>5.953073</td>\n",
       "      <td>-0.201546</td>\n",
       "      <td>-0.183322</td>\n",
       "      <td>-0.304746</td>\n",
       "      <td>-0.259382</td>\n",
       "      <td>-0.218093</td>\n",
       "      <td>-0.174926</td>\n",
       "    </tr>\n",
       "  </tbody>\n",
       "</table>\n",
       "<p>5 rows × 40 columns</p>\n",
       "</div>"
      ],
      "text/plain": [
       "   gradyear         gender        age  NumberOffriends  basketball  football  \\\n",
       "0      2007  not disclosed  18.400134                0   -0.338478  -0.36379   \n",
       "1      2007              F  17.410000               49   -0.338478  -0.36379   \n",
       "2      2007              F  17.511000               41   -0.338478  -0.36379   \n",
       "3      2006              F  19.010786               36   -0.338478  -0.36379   \n",
       "4      2008              F  16.657000                1   -0.338478  -0.36379   \n",
       "\n",
       "     soccer  softball  volleyball  swimming  ...    blonde      mall  \\\n",
       "0 -0.241202  -0.21655   -0.223779 -0.246048  ... -0.041671 -0.368365   \n",
       "1  0.845295  -0.21655   -0.223779  1.576532  ... -0.041671 -0.368365   \n",
       "2 -0.241202  -0.21655   -0.223779 -0.246048  ... -0.041671  1.051334   \n",
       "3 -0.241202  -0.21655   -0.223779 -0.246048  ... -0.041671 -0.368365   \n",
       "4 -0.241202  -0.21655   -0.223779  1.576532  ... -0.041671 -0.368365   \n",
       "\n",
       "   shopping   clothes  hollister  abercrombie       die     death     drunk  \\\n",
       "0 -0.490423 -0.313906  -0.201546    -0.183322 -0.304746 -0.259382 -0.218093   \n",
       "1 -0.490423 -0.313906  -0.201546    -0.183322 -0.304746 -0.259382  2.159369   \n",
       "2 -0.490423 -0.313906  -0.201546    -0.183322 -0.304746 -0.259382  2.159369   \n",
       "3 -0.490423 -0.313906  -0.201546    -0.183322 -0.304746 -0.259382 -0.218093   \n",
       "4 -0.490423  5.953073  -0.201546    -0.183322 -0.304746 -0.259382 -0.218093   \n",
       "\n",
       "      drugs  \n",
       "0 -0.174926  \n",
       "1 -0.174926  \n",
       "2  2.689582  \n",
       "3 -0.174926  \n",
       "4 -0.174926  \n",
       "\n",
       "[5 rows x 40 columns]"
      ]
     },
     "execution_count": 26,
     "metadata": {},
     "output_type": "execute_result"
    }
   ],
   "source": [
    "scaled_feature[names] = features\n",
    "scaled_feature.head()"
   ]
  },
  {
   "cell_type": "markdown",
   "id": "ad2c04ad",
   "metadata": {
    "papermill": {
     "duration": 0.026677,
     "end_time": "2024-02-29T11:08:43.083327",
     "exception": false,
     "start_time": "2024-02-29T11:08:43.056650",
     "status": "completed"
    },
    "tags": []
   },
   "source": [
    "# 📌Convert object variable to numeric"
   ]
  },
  {
   "cell_type": "code",
   "execution_count": 27,
   "id": "0ae60d4f",
   "metadata": {
    "execution": {
     "iopub.execute_input": "2024-02-29T11:08:43.135639Z",
     "iopub.status.busy": "2024-02-29T11:08:43.135179Z",
     "iopub.status.idle": "2024-02-29T11:08:43.140931Z",
     "shell.execute_reply": "2024-02-29T11:08:43.139823Z"
    },
    "papermill": {
     "duration": 0.035181,
     "end_time": "2024-02-29T11:08:43.143766",
     "exception": false,
     "start_time": "2024-02-29T11:08:43.108585",
     "status": "completed"
    },
    "tags": []
   },
   "outputs": [],
   "source": [
    "def gender_to_numeric(x):\n",
    "    if x==\"M\":\n",
    "        return 1\n",
    "    if x==\"F\":\n",
    "        return 2\n",
    "    if x== 'not disclosed':\n",
    "        return 3"
   ]
  },
  {
   "cell_type": "code",
   "execution_count": 28,
   "id": "c5940642",
   "metadata": {
    "execution": {
     "iopub.execute_input": "2024-02-29T11:08:43.197454Z",
     "iopub.status.busy": "2024-02-29T11:08:43.197029Z",
     "iopub.status.idle": "2024-02-29T11:08:43.218978Z",
     "shell.execute_reply": "2024-02-29T11:08:43.218049Z"
    },
    "papermill": {
     "duration": 0.051407,
     "end_time": "2024-02-29T11:08:43.221261",
     "exception": false,
     "start_time": "2024-02-29T11:08:43.169854",
     "status": "completed"
    },
    "tags": []
   },
   "outputs": [
    {
     "data": {
      "text/plain": [
       "0    3\n",
       "1    2\n",
       "2    2\n",
       "3    2\n",
       "4    2\n",
       "Name: gender, dtype: int64"
      ]
     },
     "execution_count": 28,
     "metadata": {},
     "output_type": "execute_result"
    }
   ],
   "source": [
    "scaled_feature['gender'] = scaled_feature['gender'].apply(gender_to_numeric)\n",
    "scaled_feature['gender'].head()"
   ]
  },
  {
   "cell_type": "markdown",
   "id": "4b38c2fc",
   "metadata": {
    "papermill": {
     "duration": 0.026025,
     "end_time": "2024-02-29T11:08:43.273368",
     "exception": false,
     "start_time": "2024-02-29T11:08:43.247343",
     "status": "completed"
    },
    "tags": []
   },
   "source": [
    "# 📌Checkig the transformed values"
   ]
  },
  {
   "cell_type": "code",
   "execution_count": 29,
   "id": "b9c6ea59",
   "metadata": {
    "execution": {
     "iopub.execute_input": "2024-02-29T11:08:43.327793Z",
     "iopub.status.busy": "2024-02-29T11:08:43.327357Z",
     "iopub.status.idle": "2024-02-29T11:08:43.367299Z",
     "shell.execute_reply": "2024-02-29T11:08:43.366110Z"
    },
    "papermill": {
     "duration": 0.069697,
     "end_time": "2024-02-29T11:08:43.369899",
     "exception": false,
     "start_time": "2024-02-29T11:08:43.300202",
     "status": "completed"
    },
    "tags": []
   },
   "outputs": [
    {
     "data": {
      "text/html": [
       "<div>\n",
       "<style scoped>\n",
       "    .dataframe tbody tr th:only-of-type {\n",
       "        vertical-align: middle;\n",
       "    }\n",
       "\n",
       "    .dataframe tbody tr th {\n",
       "        vertical-align: top;\n",
       "    }\n",
       "\n",
       "    .dataframe thead th {\n",
       "        text-align: right;\n",
       "    }\n",
       "</style>\n",
       "<table border=\"1\" class=\"dataframe\">\n",
       "  <thead>\n",
       "    <tr style=\"text-align: right;\">\n",
       "      <th></th>\n",
       "      <th>gradyear</th>\n",
       "      <th>gender</th>\n",
       "      <th>age</th>\n",
       "      <th>NumberOffriends</th>\n",
       "      <th>basketball</th>\n",
       "      <th>football</th>\n",
       "      <th>soccer</th>\n",
       "      <th>softball</th>\n",
       "      <th>volleyball</th>\n",
       "      <th>swimming</th>\n",
       "      <th>...</th>\n",
       "      <th>blonde</th>\n",
       "      <th>mall</th>\n",
       "      <th>shopping</th>\n",
       "      <th>clothes</th>\n",
       "      <th>hollister</th>\n",
       "      <th>abercrombie</th>\n",
       "      <th>die</th>\n",
       "      <th>death</th>\n",
       "      <th>drunk</th>\n",
       "      <th>drugs</th>\n",
       "    </tr>\n",
       "  </thead>\n",
       "  <tbody>\n",
       "    <tr>\n",
       "      <th>0</th>\n",
       "      <td>2007</td>\n",
       "      <td>3</td>\n",
       "      <td>18.400134</td>\n",
       "      <td>0</td>\n",
       "      <td>-0.338478</td>\n",
       "      <td>-0.36379</td>\n",
       "      <td>-0.241202</td>\n",
       "      <td>-0.21655</td>\n",
       "      <td>-0.223779</td>\n",
       "      <td>-0.246048</td>\n",
       "      <td>...</td>\n",
       "      <td>-0.041671</td>\n",
       "      <td>-0.368365</td>\n",
       "      <td>-0.490423</td>\n",
       "      <td>-0.313906</td>\n",
       "      <td>-0.201546</td>\n",
       "      <td>-0.183322</td>\n",
       "      <td>-0.304746</td>\n",
       "      <td>-0.259382</td>\n",
       "      <td>-0.218093</td>\n",
       "      <td>-0.174926</td>\n",
       "    </tr>\n",
       "    <tr>\n",
       "      <th>1</th>\n",
       "      <td>2007</td>\n",
       "      <td>2</td>\n",
       "      <td>17.410000</td>\n",
       "      <td>49</td>\n",
       "      <td>-0.338478</td>\n",
       "      <td>-0.36379</td>\n",
       "      <td>0.845295</td>\n",
       "      <td>-0.21655</td>\n",
       "      <td>-0.223779</td>\n",
       "      <td>1.576532</td>\n",
       "      <td>...</td>\n",
       "      <td>-0.041671</td>\n",
       "      <td>-0.368365</td>\n",
       "      <td>-0.490423</td>\n",
       "      <td>-0.313906</td>\n",
       "      <td>-0.201546</td>\n",
       "      <td>-0.183322</td>\n",
       "      <td>-0.304746</td>\n",
       "      <td>-0.259382</td>\n",
       "      <td>2.159369</td>\n",
       "      <td>-0.174926</td>\n",
       "    </tr>\n",
       "    <tr>\n",
       "      <th>2</th>\n",
       "      <td>2007</td>\n",
       "      <td>2</td>\n",
       "      <td>17.511000</td>\n",
       "      <td>41</td>\n",
       "      <td>-0.338478</td>\n",
       "      <td>-0.36379</td>\n",
       "      <td>-0.241202</td>\n",
       "      <td>-0.21655</td>\n",
       "      <td>-0.223779</td>\n",
       "      <td>-0.246048</td>\n",
       "      <td>...</td>\n",
       "      <td>-0.041671</td>\n",
       "      <td>1.051334</td>\n",
       "      <td>-0.490423</td>\n",
       "      <td>-0.313906</td>\n",
       "      <td>-0.201546</td>\n",
       "      <td>-0.183322</td>\n",
       "      <td>-0.304746</td>\n",
       "      <td>-0.259382</td>\n",
       "      <td>2.159369</td>\n",
       "      <td>2.689582</td>\n",
       "    </tr>\n",
       "    <tr>\n",
       "      <th>3</th>\n",
       "      <td>2006</td>\n",
       "      <td>2</td>\n",
       "      <td>19.010786</td>\n",
       "      <td>36</td>\n",
       "      <td>-0.338478</td>\n",
       "      <td>-0.36379</td>\n",
       "      <td>-0.241202</td>\n",
       "      <td>-0.21655</td>\n",
       "      <td>-0.223779</td>\n",
       "      <td>-0.246048</td>\n",
       "      <td>...</td>\n",
       "      <td>-0.041671</td>\n",
       "      <td>-0.368365</td>\n",
       "      <td>-0.490423</td>\n",
       "      <td>-0.313906</td>\n",
       "      <td>-0.201546</td>\n",
       "      <td>-0.183322</td>\n",
       "      <td>-0.304746</td>\n",
       "      <td>-0.259382</td>\n",
       "      <td>-0.218093</td>\n",
       "      <td>-0.174926</td>\n",
       "    </tr>\n",
       "    <tr>\n",
       "      <th>4</th>\n",
       "      <td>2008</td>\n",
       "      <td>2</td>\n",
       "      <td>16.657000</td>\n",
       "      <td>1</td>\n",
       "      <td>-0.338478</td>\n",
       "      <td>-0.36379</td>\n",
       "      <td>-0.241202</td>\n",
       "      <td>-0.21655</td>\n",
       "      <td>-0.223779</td>\n",
       "      <td>1.576532</td>\n",
       "      <td>...</td>\n",
       "      <td>-0.041671</td>\n",
       "      <td>-0.368365</td>\n",
       "      <td>-0.490423</td>\n",
       "      <td>5.953073</td>\n",
       "      <td>-0.201546</td>\n",
       "      <td>-0.183322</td>\n",
       "      <td>-0.304746</td>\n",
       "      <td>-0.259382</td>\n",
       "      <td>-0.218093</td>\n",
       "      <td>-0.174926</td>\n",
       "    </tr>\n",
       "  </tbody>\n",
       "</table>\n",
       "<p>5 rows × 40 columns</p>\n",
       "</div>"
      ],
      "text/plain": [
       "   gradyear  gender        age  NumberOffriends  basketball  football  \\\n",
       "0      2007       3  18.400134                0   -0.338478  -0.36379   \n",
       "1      2007       2  17.410000               49   -0.338478  -0.36379   \n",
       "2      2007       2  17.511000               41   -0.338478  -0.36379   \n",
       "3      2006       2  19.010786               36   -0.338478  -0.36379   \n",
       "4      2008       2  16.657000                1   -0.338478  -0.36379   \n",
       "\n",
       "     soccer  softball  volleyball  swimming  ...    blonde      mall  \\\n",
       "0 -0.241202  -0.21655   -0.223779 -0.246048  ... -0.041671 -0.368365   \n",
       "1  0.845295  -0.21655   -0.223779  1.576532  ... -0.041671 -0.368365   \n",
       "2 -0.241202  -0.21655   -0.223779 -0.246048  ... -0.041671  1.051334   \n",
       "3 -0.241202  -0.21655   -0.223779 -0.246048  ... -0.041671 -0.368365   \n",
       "4 -0.241202  -0.21655   -0.223779  1.576532  ... -0.041671 -0.368365   \n",
       "\n",
       "   shopping   clothes  hollister  abercrombie       die     death     drunk  \\\n",
       "0 -0.490423 -0.313906  -0.201546    -0.183322 -0.304746 -0.259382 -0.218093   \n",
       "1 -0.490423 -0.313906  -0.201546    -0.183322 -0.304746 -0.259382  2.159369   \n",
       "2 -0.490423 -0.313906  -0.201546    -0.183322 -0.304746 -0.259382  2.159369   \n",
       "3 -0.490423 -0.313906  -0.201546    -0.183322 -0.304746 -0.259382 -0.218093   \n",
       "4 -0.490423  5.953073  -0.201546    -0.183322 -0.304746 -0.259382 -0.218093   \n",
       "\n",
       "      drugs  \n",
       "0 -0.174926  \n",
       "1 -0.174926  \n",
       "2  2.689582  \n",
       "3 -0.174926  \n",
       "4 -0.174926  \n",
       "\n",
       "[5 rows x 40 columns]"
      ]
     },
     "execution_count": 29,
     "metadata": {},
     "output_type": "execute_result"
    }
   ],
   "source": [
    "scaled_feature.head()"
   ]
  },
  {
   "cell_type": "markdown",
   "id": "6e9d9f8e",
   "metadata": {
    "papermill": {
     "duration": 0.025977,
     "end_time": "2024-02-29T11:08:43.421841",
     "exception": false,
     "start_time": "2024-02-29T11:08:43.395864",
     "status": "completed"
    },
    "tags": []
   },
   "source": [
    "# 📌Building the K-means model"
   ]
  },
  {
   "cell_type": "code",
   "execution_count": 30,
   "id": "9c7bec5e",
   "metadata": {
    "execution": {
     "iopub.execute_input": "2024-02-29T11:08:43.475847Z",
     "iopub.status.busy": "2024-02-29T11:08:43.475436Z",
     "iopub.status.idle": "2024-02-29T11:08:43.867859Z",
     "shell.execute_reply": "2024-02-29T11:08:43.866619Z"
    },
    "papermill": {
     "duration": 0.423271,
     "end_time": "2024-02-29T11:08:43.870883",
     "exception": false,
     "start_time": "2024-02-29T11:08:43.447612",
     "status": "completed"
    },
    "tags": []
   },
   "outputs": [],
   "source": [
    "from sklearn.cluster import KMeans\n",
    "kmeans = KMeans(n_clusters=5, random_state=0)"
   ]
  },
  {
   "cell_type": "code",
   "execution_count": 31,
   "id": "223a0675",
   "metadata": {
    "execution": {
     "iopub.execute_input": "2024-02-29T11:08:43.925839Z",
     "iopub.status.busy": "2024-02-29T11:08:43.925437Z",
     "iopub.status.idle": "2024-02-29T11:08:45.331541Z",
     "shell.execute_reply": "2024-02-29T11:08:45.330532Z"
    },
    "papermill": {
     "duration": 1.436862,
     "end_time": "2024-02-29T11:08:45.334626",
     "exception": false,
     "start_time": "2024-02-29T11:08:43.897764",
     "status": "completed"
    },
    "tags": []
   },
   "outputs": [],
   "source": [
    "model = kmeans.fit(scaled_feature)"
   ]
  },
  {
   "cell_type": "markdown",
   "id": "095d5c67",
   "metadata": {
    "papermill": {
     "duration": 0.039203,
     "end_time": "2024-02-29T11:08:45.424090",
     "exception": false,
     "start_time": "2024-02-29T11:08:45.384887",
     "status": "completed"
    },
    "tags": []
   },
   "source": [
    "# 📌Elbow Method*"
   ]
  },
  {
   "cell_type": "code",
   "execution_count": 32,
   "id": "9bcc7395",
   "metadata": {
    "execution": {
     "iopub.execute_input": "2024-02-29T11:08:45.479101Z",
     "iopub.status.busy": "2024-02-29T11:08:45.478712Z",
     "iopub.status.idle": "2024-02-29T11:09:17.420974Z",
     "shell.execute_reply": "2024-02-29T11:09:17.419839Z"
    },
    "papermill": {
     "duration": 32.000097,
     "end_time": "2024-02-29T11:09:17.450993",
     "exception": false,
     "start_time": "2024-02-29T11:08:45.450896",
     "status": "completed"
    },
    "tags": []
   },
   "outputs": [
    {
     "data": {
      "image/png": "[encoded data removed]",
      "text/plain": [
       "<Figure size 640x480 with 1 Axes>"
      ]
     },
     "metadata": {},
     "output_type": "display_data"
    }
   ],
   "source": [
    "# Creating a function with KMeans to plot \"The Elbow Curve\"\n",
    "\n",
    "wcss = []\n",
    "for i in range(1,20):\n",
    "    kmeans = KMeans(n_clusters=i,init='k-means++' ,max_iter=300,random_state=0)\n",
    "    kmeans.fit(scaled_feature)\n",
    "    wcss.append(kmeans.inertia_)\n",
    "    \n",
    "plt.plot(range(1,20),wcss) \n",
    "plt.title('THe Elbow Curve')\n",
    "plt.xlabel('Number of Clusters')\n",
    "plt.ylabel(\"WCSS\") #WCSS stands for total within-cluster sum of sqaure\n",
    "plt.show()"
   ]
  },
  {
   "cell_type": "markdown",
   "id": "c0ea03bf",
   "metadata": {
    "papermill": {
     "duration": 0.027269,
     "end_time": "2024-02-29T11:09:17.506104",
     "exception": false,
     "start_time": "2024-02-29T11:09:17.478835",
     "status": "completed"
    },
    "tags": []
   },
   "source": [
    "**The location of a bend (knee) in the plot is generally considered as an indicator of the appropriate number of clusters. Our Elbow point is around cluster size of 5.\n",
    "We will use k=5 to further interpret our clustering result.**"
   ]
  },
  {
   "cell_type": "markdown",
   "id": "3d72545c",
   "metadata": {
    "papermill": {
     "duration": 0.026592,
     "end_time": "2024-02-29T11:09:17.559382",
     "exception": false,
     "start_time": "2024-02-29T11:09:17.532790",
     "status": "completed"
    },
    "tags": []
   },
   "source": [
    "# 📌Fit K-Means clustering for k=5"
   ]
  },
  {
   "cell_type": "code",
   "execution_count": 33,
   "id": "5769e9df",
   "metadata": {
    "execution": {
     "iopub.execute_input": "2024-02-29T11:09:17.615870Z",
     "iopub.status.busy": "2024-02-29T11:09:17.615445Z",
     "iopub.status.idle": "2024-02-29T11:09:19.181155Z",
     "shell.execute_reply": "2024-02-29T11:09:19.180063Z"
    },
    "papermill": {
     "duration": 1.597533,
     "end_time": "2024-02-29T11:09:19.183865",
     "exception": false,
     "start_time": "2024-02-29T11:09:17.586332",
     "status": "completed"
    },
    "tags": []
   },
   "outputs": [
    {
     "data": {
      "text/html": [
       "<style>#sk-container-id-1 {color: black;}#sk-container-id-1 pre{padding: 0;}#sk-container-id-1 div.sk-toggleable {background-color: white;}#sk-container-id-1 label.sk-toggleable__label {cursor: pointer;display: block;width: 100%;margin-bottom: 0;padding: 0.3em;box-sizing: border-box;text-align: center;}#sk-container-id-1 label.sk-toggleable__label-arrow:before {content: \"▸\";float: left;margin-right: 0.25em;color: #696969;}#sk-container-id-1 label.sk-toggleable__label-arrow:hover:before {color: black;}#sk-container-id-1 div.sk-estimator:hover label.sk-toggleable__label-arrow:before {color: black;}#sk-container-id-1 div.sk-toggleable__content {max-height: 0;max-width: 0;overflow: hidden;text-align: left;background-color: #f0f8ff;}#sk-container-id-1 div.sk-toggleable__content pre {margin: 0.2em;color: black;border-radius: 0.25em;background-color: #f0f8ff;}#sk-container-id-1 input.sk-toggleable__control:checked~div.sk-toggleable__content {max-height: 200px;max-width: 100%;overflow: auto;}#sk-container-id-1 input.sk-toggleable__control:checked~label.sk-toggleable__label-arrow:before {content: \"▾\";}#sk-container-id-1 div.sk-estimator input.sk-toggleable__control:checked~label.sk-toggleable__label {background-color: #d4ebff;}#sk-container-id-1 div.sk-label input.sk-toggleable__control:checked~label.sk-toggleable__label {background-color: #d4ebff;}#sk-container-id-1 input.sk-hidden--visually {border: 0;clip: rect(1px 1px 1px 1px);clip: rect(1px, 1px, 1px, 1px);height: 1px;margin: -1px;overflow: hidden;padding: 0;position: absolute;width: 1px;}#sk-container-id-1 div.sk-estimator {font-family: monospace;background-color: #f0f8ff;border: 1px dotted black;border-radius: 0.25em;box-sizing: border-box;margin-bottom: 0.5em;}#sk-container-id-1 div.sk-estimator:hover {background-color: #d4ebff;}#sk-container-id-1 div.sk-parallel-item::after {content: \"\";width: 100%;border-bottom: 1px solid gray;flex-grow: 1;}#sk-container-id-1 div.sk-label:hover label.sk-toggleable__label {background-color: #d4ebff;}#sk-container-id-1 div.sk-serial::before {content: \"\";position: absolute;border-left: 1px solid gray;box-sizing: border-box;top: 0;bottom: 0;left: 50%;z-index: 0;}#sk-container-id-1 div.sk-serial {display: flex;flex-direction: column;align-items: center;background-color: white;padding-right: 0.2em;padding-left: 0.2em;position: relative;}#sk-container-id-1 div.sk-item {position: relative;z-index: 1;}#sk-container-id-1 div.sk-parallel {display: flex;align-items: stretch;justify-content: center;background-color: white;position: relative;}#sk-container-id-1 div.sk-item::before, #sk-container-id-1 div.sk-parallel-item::before {content: \"\";position: absolute;border-left: 1px solid gray;box-sizing: border-box;top: 0;bottom: 0;left: 50%;z-index: -1;}#sk-container-id-1 div.sk-parallel-item {display: flex;flex-direction: column;z-index: 1;position: relative;background-color: white;}#sk-container-id-1 div.sk-parallel-item:first-child::after {align-self: flex-end;width: 50%;}#sk-container-id-1 div.sk-parallel-item:last-child::after {align-self: flex-start;width: 50%;}#sk-container-id-1 div.sk-parallel-item:only-child::after {width: 0;}#sk-container-id-1 div.sk-dashed-wrapped {border: 1px dashed gray;margin: 0 0.4em 0.5em 0.4em;box-sizing: border-box;padding-bottom: 0.4em;background-color: white;}#sk-container-id-1 div.sk-label label {font-family: monospace;font-weight: bold;display: inline-block;line-height: 1.2em;}#sk-container-id-1 div.sk-label-container {text-align: center;}#sk-container-id-1 div.sk-container {/* jupyter's `normalize.less` sets `[hidden] { display: none; }` but bootstrap.min.css set `[hidden] { display: none !important; }` so we also need the `!important` here to be able to override the default hidden behavior on the sphinx rendered scikit-learn.org. See: https://github.com/scikit-learn/scikit-learn/issues/21755 */display: inline-block !important;position: relative;}#sk-container-id-1 div.sk-text-repr-fallback {display: none;}</style><div id=\"sk-container-id-1\" class=\"sk-top-container\"><div class=\"sk-text-repr-fallback\"><pre>KMeans(n_clusters=5)</pre><b>In a Jupyter environment, please rerun this cell to show the HTML representation or trust the notebook. <br />On GitHub, the HTML representation is unable to render, please try loading this page with nbviewer.org.</b></div><div class=\"sk-container\" hidden><div class=\"sk-item\"><div class=\"sk-estimator sk-toggleable\"><input class=\"sk-toggleable__control sk-hidden--visually\" id=\"sk-estimator-id-1\" type=\"checkbox\" checked><label for=\"sk-estimator-id-1\" class=\"sk-toggleable__label sk-toggleable__label-arrow\">KMeans</label><div class=\"sk-toggleable__content\"><pre>KMeans(n_clusters=5)</pre></div></div></div></div></div>"
      ],
      "text/plain": [
       "KMeans(n_clusters=5)"
      ]
     },
     "execution_count": 33,
     "metadata": {},
     "output_type": "execute_result"
    }
   ],
   "source": [
    "kmeans = KMeans(n_clusters=5)\n",
    "kmeans.fit(scaled_feature)"
   ]
  },
  {
   "cell_type": "code",
   "execution_count": 34,
   "id": "7bc36b3c",
   "metadata": {
    "execution": {
     "iopub.execute_input": "2024-02-29T11:09:19.240767Z",
     "iopub.status.busy": "2024-02-29T11:09:19.240355Z",
     "iopub.status.idle": "2024-02-29T11:09:19.247886Z",
     "shell.execute_reply": "2024-02-29T11:09:19.246659Z"
    },
    "papermill": {
     "duration": 0.038985,
     "end_time": "2024-02-29T11:09:19.250424",
     "exception": false,
     "start_time": "2024-02-29T11:09:19.211439",
     "status": "completed"
    },
    "tags": []
   },
   "outputs": [
    {
     "data": {
      "text/plain": [
       "array([0, 2, 3, ..., 3, 3, 3])"
      ]
     },
     "execution_count": 34,
     "metadata": {},
     "output_type": "execute_result"
    }
   ],
   "source": [
    "kmeans.labels_"
   ]
  },
  {
   "cell_type": "code",
   "execution_count": 35,
   "id": "fc9a8e59",
   "metadata": {
    "execution": {
     "iopub.execute_input": "2024-02-29T11:09:19.307157Z",
     "iopub.status.busy": "2024-02-29T11:09:19.305875Z",
     "iopub.status.idle": "2024-02-29T11:09:19.313312Z",
     "shell.execute_reply": "2024-02-29T11:09:19.312102Z"
    },
    "papermill": {
     "duration": 0.038491,
     "end_time": "2024-02-29T11:09:19.315831",
     "exception": false,
     "start_time": "2024-02-29T11:09:19.277340",
     "status": "completed"
    },
    "tags": []
   },
   "outputs": [
    {
     "data": {
      "text/plain": [
       "15000"
      ]
     },
     "execution_count": 35,
     "metadata": {},
     "output_type": "execute_result"
    }
   ],
   "source": [
    "len(kmeans.labels_)"
   ]
  },
  {
   "cell_type": "code",
   "execution_count": 36,
   "id": "acf26c4f",
   "metadata": {
    "execution": {
     "iopub.execute_input": "2024-02-29T11:09:19.374466Z",
     "iopub.status.busy": "2024-02-29T11:09:19.373159Z",
     "iopub.status.idle": "2024-02-29T11:09:19.379964Z",
     "shell.execute_reply": "2024-02-29T11:09:19.379088Z"
    },
    "papermill": {
     "duration": 0.038066,
     "end_time": "2024-02-29T11:09:19.382413",
     "exception": false,
     "start_time": "2024-02-29T11:09:19.344347",
     "status": "completed"
    },
    "tags": []
   },
   "outputs": [],
   "source": [
    "data['cluster'] = kmeans.labels_"
   ]
  },
  {
   "cell_type": "markdown",
   "id": "888446f8",
   "metadata": {
    "papermill": {
     "duration": 0.027014,
     "end_time": "2024-02-29T11:09:19.436631",
     "exception": false,
     "start_time": "2024-02-29T11:09:19.409617",
     "status": "completed"
    },
    "tags": []
   },
   "source": [
    "# 📌Interpreting Clustering Results"
   ]
  },
  {
   "cell_type": "code",
   "execution_count": 37,
   "id": "a60f3e56",
   "metadata": {
    "execution": {
     "iopub.execute_input": "2024-02-29T11:09:19.494381Z",
     "iopub.status.busy": "2024-02-29T11:09:19.493961Z",
     "iopub.status.idle": "2024-02-29T11:09:19.808826Z",
     "shell.execute_reply": "2024-02-29T11:09:19.807412Z"
    },
    "papermill": {
     "duration": 0.346815,
     "end_time": "2024-02-29T11:09:19.811625",
     "exception": false,
     "start_time": "2024-02-29T11:09:19.464810",
     "status": "completed"
    },
    "tags": []
   },
   "outputs": [
    {
     "data": {
      "image/png": "[encoded data removed]",
      "text/plain": [
       "<Figure size 1200x700 with 1 Axes>"
      ]
     },
     "metadata": {},
     "output_type": "display_data"
    }
   ],
   "source": [
    "plt.figure(figsize=(12,7))\n",
    "axis = sns.barplot(x=np.arange(0,5,1), y=data.groupby(['cluster']).count()['age'].values)\n",
    "x=axis.set_xlabel(\"cluster Number\")\n",
    "x=axis.set_ylabel(\"Number of students\")"
   ]
  },
  {
   "cell_type": "markdown",
   "id": "eb2cce4b",
   "metadata": {
    "papermill": {
     "duration": 0.028379,
     "end_time": "2024-02-29T11:09:19.868214",
     "exception": false,
     "start_time": "2024-02-29T11:09:19.839835",
     "status": "completed"
    },
    "tags": []
   },
   "source": [
    "**From the above plot we can see that cluster 0 is the largest and cluster 2 has fewest teen students.**"
   ]
  },
  {
   "cell_type": "markdown",
   "id": "9637341c",
   "metadata": {
    "papermill": {
     "duration": 0.028285,
     "end_time": "2024-02-29T11:09:19.924198",
     "exception": false,
     "start_time": "2024-02-29T11:09:19.895913",
     "status": "completed"
    },
    "tags": []
   },
   "source": [
    "# 📌Let' see the number of students belonging to each cluster"
   ]
  },
  {
   "cell_type": "code",
   "execution_count": 38,
   "id": "07ad1341",
   "metadata": {
    "execution": {
     "iopub.execute_input": "2024-02-29T11:09:19.981433Z",
     "iopub.status.busy": "2024-02-29T11:09:19.981006Z",
     "iopub.status.idle": "2024-02-29T11:09:19.995593Z",
     "shell.execute_reply": "2024-02-29T11:09:19.994554Z"
    },
    "papermill": {
     "duration": 0.046225,
     "end_time": "2024-02-29T11:09:19.998114",
     "exception": false,
     "start_time": "2024-02-29T11:09:19.951889",
     "status": "completed"
    },
    "tags": []
   },
   "outputs": [
    {
     "data": {
      "text/plain": [
       "[6866, 850, 2668, 4469, 147]"
      ]
     },
     "execution_count": 38,
     "metadata": {},
     "output_type": "execute_result"
    }
   ],
   "source": [
    "size_array = list(data.groupby(['cluster']).count()['age'].values)\n",
    "size_array"
   ]
  },
  {
   "cell_type": "markdown",
   "id": "0e9f539f",
   "metadata": {
    "papermill": {
     "duration": 0.027749,
     "end_time": "2024-02-29T11:09:20.055380",
     "exception": false,
     "start_time": "2024-02-29T11:09:20.027631",
     "status": "completed"
    },
    "tags": []
   },
   "source": [
    "## 📌Average Age in each cluster"
   ]
  },
  {
   "cell_type": "code",
   "execution_count": 39,
   "id": "f48eb82c",
   "metadata": {
    "execution": {
     "iopub.execute_input": "2024-02-29T11:09:20.113745Z",
     "iopub.status.busy": "2024-02-29T11:09:20.112486Z",
     "iopub.status.idle": "2024-02-29T11:09:20.121014Z",
     "shell.execute_reply": "2024-02-29T11:09:20.119683Z"
    },
    "papermill": {
     "duration": 0.040364,
     "end_time": "2024-02-29T11:09:20.123547",
     "exception": false,
     "start_time": "2024-02-29T11:09:20.083183",
     "status": "completed"
    },
    "tags": []
   },
   "outputs": [
    {
     "name": "stdout",
     "output_type": "stream",
     "text": [
      "Cluster 0: 18.03 years\n",
      "Cluster 1: 17.80 years\n",
      "Cluster 2: 17.76 years\n",
      "Cluster 3: 18.06 years\n",
      "Cluster 4: 17.68 years\n"
     ]
    }
   ],
   "source": [
    "# Calculate the mean age for each cluster\n",
    "mean_age = data.groupby('cluster')['age'].mean()\n",
    "\n",
    "# Print the mean age for each cluster in the desired format\n",
    "for cluster, age in mean_age.items():\n",
    "    print(f\"Cluster {cluster}: {age:.2f} years\")\n"
   ]
  },
  {
   "cell_type": "code",
   "execution_count": 40,
   "id": "de912f84",
   "metadata": {
    "execution": {
     "iopub.execute_input": "2024-02-29T11:09:20.183749Z",
     "iopub.status.busy": "2024-02-29T11:09:20.182459Z",
     "iopub.status.idle": "2024-02-29T11:09:20.190069Z",
     "shell.execute_reply": "2024-02-29T11:09:20.189224Z"
    },
    "papermill": {
     "duration": 0.039734,
     "end_time": "2024-02-29T11:09:20.192381",
     "exception": false,
     "start_time": "2024-02-29T11:09:20.152647",
     "status": "completed"
    },
    "tags": []
   },
   "outputs": [],
   "source": [
    "data['gender'] = data['gender'].map({'F': 0, 'M': 1, 'not disclosed':3})\n"
   ]
  },
  {
   "cell_type": "code",
   "execution_count": 41,
   "id": "5b78356b",
   "metadata": {
    "execution": {
     "iopub.execute_input": "2024-02-29T11:09:20.251201Z",
     "iopub.status.busy": "2024-02-29T11:09:20.249984Z",
     "iopub.status.idle": "2024-02-29T11:09:20.260806Z",
     "shell.execute_reply": "2024-02-29T11:09:20.259517Z"
    },
    "papermill": {
     "duration": 0.042628,
     "end_time": "2024-02-29T11:09:20.263412",
     "exception": false,
     "start_time": "2024-02-29T11:09:20.220784",
     "status": "completed"
    },
    "tags": []
   },
   "outputs": [
    {
     "data": {
      "text/plain": [
       "0    11057\n",
       "1     2606\n",
       "3     1337\n",
       "Name: gender, dtype: int64"
      ]
     },
     "execution_count": 41,
     "metadata": {},
     "output_type": "execute_result"
    }
   ],
   "source": [
    "data['gender'].value_counts()\n"
   ]
  },
  {
   "cell_type": "markdown",
   "id": "fcd53413",
   "metadata": {
    "papermill": {
     "duration": 0.028524,
     "end_time": "2024-02-29T11:09:20.320896",
     "exception": false,
     "start_time": "2024-02-29T11:09:20.292372",
     "status": "completed"
    },
    "tags": []
   },
   "source": [
    "## 📌Percentage of females in each cluster"
   ]
  },
  {
   "cell_type": "code",
   "execution_count": 42,
   "id": "11b8b6ad",
   "metadata": {
    "execution": {
     "iopub.execute_input": "2024-02-29T11:09:20.380101Z",
     "iopub.status.busy": "2024-02-29T11:09:20.379686Z",
     "iopub.status.idle": "2024-02-29T11:09:20.391899Z",
     "shell.execute_reply": "2024-02-29T11:09:20.390670Z"
    },
    "papermill": {
     "duration": 0.044274,
     "end_time": "2024-02-29T11:09:20.394283",
     "exception": false,
     "start_time": "2024-02-29T11:09:20.350009",
     "status": "completed"
    },
    "tags": []
   },
   "outputs": [
    {
     "name": "stdout",
     "output_type": "stream",
     "text": [
      "Cluster 0: 70.36% females\n",
      "Cluster 1: 80.12% females\n",
      "Cluster 2: 77.51% females\n",
      "Cluster 3: 74.94% females\n",
      "Cluster 4: 87.07% females\n"
     ]
    }
   ],
   "source": [
    "# Calculate the percentage of females in each cluster\n",
    "percentage_female = data[data['gender'] == 0].groupby('cluster').size() / data.groupby('cluster').size() * 100\n",
    "\n",
    "# Print the percentage of females in each cluster in a readable format\n",
    "for cluster, percentage in percentage_female.items():\n",
    "    print(f\"Cluster {cluster}: {percentage:.2f}% females\")\n"
   ]
  },
  {
   "cell_type": "markdown",
   "id": "b34fd495",
   "metadata": {
    "papermill": {
     "duration": 0.028621,
     "end_time": "2024-02-29T11:09:20.451931",
     "exception": false,
     "start_time": "2024-02-29T11:09:20.423310",
     "status": "completed"
    },
    "tags": []
   },
   "source": [
    "## 📌Average number of friends in each cluster"
   ]
  },
  {
   "cell_type": "code",
   "execution_count": 43,
   "id": "db5d82f5",
   "metadata": {
    "execution": {
     "iopub.execute_input": "2024-02-29T11:09:20.511173Z",
     "iopub.status.busy": "2024-02-29T11:09:20.510721Z",
     "iopub.status.idle": "2024-02-29T11:09:20.519444Z",
     "shell.execute_reply": "2024-02-29T11:09:20.518068Z"
    },
    "papermill": {
     "duration": 0.041123,
     "end_time": "2024-02-29T11:09:20.522209",
     "exception": false,
     "start_time": "2024-02-29T11:09:20.481086",
     "status": "completed"
    },
    "tags": []
   },
   "outputs": [
    {
     "name": "stdout",
     "output_type": "stream",
     "text": [
      "Cluster 0: Average number of friends = 4.70\n",
      "Cluster 1: Average number of friends = 109.86\n",
      "Cluster 2: Average number of friends = 60.83\n",
      "Cluster 3: Average number of friends = 28.85\n",
      "Cluster 4: Average number of friends = 208.65\n"
     ]
    }
   ],
   "source": [
    "# Calculate the average number of friends in each cluster\n",
    "mean_friends = data.groupby('cluster')['NumberOffriends'].mean()\n",
    "\n",
    "# Print the average number of friends in each cluster in a readable format\n",
    "for cluster, avg_friends in mean_friends.items():\n",
    "    print(f\"Cluster {cluster}: Average number of friends = {avg_friends:.2f}\")\n"
   ]
  },
  {
   "cell_type": "markdown",
   "id": "8e69948c",
   "metadata": {
    "papermill": {
     "duration": 0.028305,
     "end_time": "2024-02-29T11:09:20.579351",
     "exception": false,
     "start_time": "2024-02-29T11:09:20.551046",
     "status": "completed"
    },
    "tags": []
   },
   "source": [
    "## 📌Cluster Analysis"
   ]
  },
  {
   "cell_type": "code",
   "execution_count": 44,
   "id": "917bf9d3",
   "metadata": {
    "execution": {
     "iopub.execute_input": "2024-02-29T11:09:20.638391Z",
     "iopub.status.busy": "2024-02-29T11:09:20.637965Z",
     "iopub.status.idle": "2024-02-29T11:09:20.647527Z",
     "shell.execute_reply": "2024-02-29T11:09:20.646450Z"
    },
    "papermill": {
     "duration": 0.043266,
     "end_time": "2024-02-29T11:09:20.651356",
     "exception": false,
     "start_time": "2024-02-29T11:09:20.608090",
     "status": "completed"
    },
    "tags": []
   },
   "outputs": [
    {
     "name": "stdout",
     "output_type": "stream",
     "text": [
      "Cluster Analysis:\n",
      "Cluster 0:\n",
      "  Mean Age: 18.03 years\n",
      "  Percentage Female: 70.36%\n",
      "  Mean Number of Friends: 4.70\n",
      "  Number of Students: 6866.0\n",
      "\n",
      "Cluster 1:\n",
      "  Mean Age: 17.80 years\n",
      "  Percentage Female: 80.12%\n",
      "  Mean Number of Friends: 109.86\n",
      "  Number of Students: 850.0\n",
      "\n",
      "Cluster 2:\n",
      "  Mean Age: 17.76 years\n",
      "  Percentage Female: 77.51%\n",
      "  Mean Number of Friends: 60.83\n",
      "  Number of Students: 2668.0\n",
      "\n",
      "Cluster 3:\n",
      "  Mean Age: 18.06 years\n",
      "  Percentage Female: 74.94%\n",
      "  Mean Number of Friends: 28.85\n",
      "  Number of Students: 4469.0\n",
      "\n",
      "Cluster 4:\n",
      "  Mean Age: 17.68 years\n",
      "  Percentage Female: 87.07%\n",
      "  Mean Number of Friends: 208.65\n",
      "  Number of Students: 147.0\n",
      "\n"
     ]
    }
   ],
   "source": [
    "cluster_analysis = pd.DataFrame({\n",
    "    'Mean Age': mean_age,\n",
    "    'Percentage Female': percentage_female,\n",
    "    'Mean Number of Friends': mean_friends,\n",
    "    'Number of Students': size_array  \n",
    "})\n",
    "\n",
    "print(\"Cluster Analysis:\")\n",
    "for cluster, row in cluster_analysis.iterrows():\n",
    "    print(f\"Cluster {cluster}:\")\n",
    "    print(f\"  Mean Age: {row['Mean Age']:.2f} years\")\n",
    "    print(f\"  Percentage Female: {row['Percentage Female']:.2f}%\")\n",
    "    print(f\"  Mean Number of Friends: {row['Mean Number of Friends']:.2f}\")\n",
    "    print(f\"  Number of Students: {row['Number of Students']}\")\n",
    "    print()  \n"
   ]
  },
  {
   "cell_type": "code",
   "execution_count": 45,
   "id": "397d67b0",
   "metadata": {
    "execution": {
     "iopub.execute_input": "2024-02-29T11:09:20.711494Z",
     "iopub.status.busy": "2024-02-29T11:09:20.710800Z",
     "iopub.status.idle": "2024-02-29T11:09:21.817406Z",
     "shell.execute_reply": "2024-02-29T11:09:21.814909Z"
    },
    "papermill": {
     "duration": 1.140623,
     "end_time": "2024-02-29T11:09:21.821092",
     "exception": false,
     "start_time": "2024-02-29T11:09:20.680469",
     "status": "completed"
    },
    "tags": []
   },
   "outputs": [
    {
     "data": {
      "image/png": "[encoded data removed]",
      "text/plain": [
       "<Figure size 1200x1000 with 4 Axes>"
      ]
     },
     "metadata": {},
     "output_type": "display_data"
    }
   ],
   "source": [
    "\n",
    "clusters = cluster_analysis.index\n",
    "\n",
    "fig, axs = plt.subplots(2, 2, figsize=(12, 10))\n",
    "\n",
    "# Mean Age\n",
    "axs[0, 0].bar(clusters, cluster_analysis['Mean Age'], color='skyblue')\n",
    "axs[0, 0].set_title('Mean Age by Cluster')\n",
    "axs[0, 0].set_ylabel('Mean Age (years)')\n",
    "\n",
    "# Percentage Female\n",
    "axs[0, 1].bar(clusters, cluster_analysis['Percentage Female'], color='lightgreen')\n",
    "axs[0, 1].set_title('Percentage Female by Cluster')\n",
    "axs[0, 1].set_ylabel('Percentage Female')\n",
    "\n",
    "# Mean Number of Friends\n",
    "axs[1, 0].bar(clusters, cluster_analysis['Mean Number of Friends'], color='salmon')\n",
    "axs[1, 0].set_title('Mean Number of Friends by Cluster')\n",
    "axs[1, 0].set_ylabel('Mean Number of Friends')\n",
    "\n",
    "# Number of Students\n",
    "axs[1, 1].bar(clusters, cluster_analysis['Number of Students'], color='gold')\n",
    "axs[1, 1].set_title('Number of Students by Cluster')\n",
    "axs[1, 1].set_ylabel('Number of Students')\n",
    "\n",
    "# Rotate x-axis labels for better readability\n",
    "for ax in axs.flat:\n",
    "    ax.set_xticklabels(ax.get_xticklabels(), rotation=45, ha='right')\n",
    "\n",
    "plt.tight_layout()\n",
    "plt.show()\n"
   ]
  },
  {
   "cell_type": "markdown",
   "id": "323d8c0f",
   "metadata": {
    "papermill": {
     "duration": 0.033737,
     "end_time": "2024-02-29T11:09:21.899831",
     "exception": false,
     "start_time": "2024-02-29T11:09:21.866094",
     "status": "completed"
    },
    "tags": []
   },
   "source": [
    "## 📌Describe clusters characteristics"
   ]
  },
  {
   "cell_type": "code",
   "execution_count": 46,
   "id": "586e94c6",
   "metadata": {
    "execution": {
     "iopub.execute_input": "2024-02-29T11:09:21.963796Z",
     "iopub.status.busy": "2024-02-29T11:09:21.963141Z",
     "iopub.status.idle": "2024-02-29T11:09:21.995339Z",
     "shell.execute_reply": "2024-02-29T11:09:21.994042Z"
    },
    "papermill": {
     "duration": 0.066335,
     "end_time": "2024-02-29T11:09:21.997839",
     "exception": false,
     "start_time": "2024-02-29T11:09:21.931504",
     "status": "completed"
    },
    "tags": []
   },
   "outputs": [
    {
     "name": "stdout",
     "output_type": "stream",
     "text": [
      "Cluster Characteristics:\n"
     ]
    },
    {
     "data": {
      "text/html": [
       "<div>\n",
       "<style scoped>\n",
       "    .dataframe tbody tr th:only-of-type {\n",
       "        vertical-align: middle;\n",
       "    }\n",
       "\n",
       "    .dataframe tbody tr th {\n",
       "        vertical-align: top;\n",
       "    }\n",
       "\n",
       "    .dataframe thead th {\n",
       "        text-align: right;\n",
       "    }\n",
       "</style>\n",
       "<table border=\"1\" class=\"dataframe\">\n",
       "  <thead>\n",
       "    <tr style=\"text-align: right;\">\n",
       "      <th>cluster</th>\n",
       "      <th>0</th>\n",
       "      <th>1</th>\n",
       "      <th>2</th>\n",
       "      <th>3</th>\n",
       "      <th>4</th>\n",
       "    </tr>\n",
       "  </thead>\n",
       "  <tbody>\n",
       "    <tr>\n",
       "      <th>gradyear</th>\n",
       "      <td>2007.428634</td>\n",
       "      <td>2007.671765</td>\n",
       "      <td>2007.616942</td>\n",
       "      <td>2007.483777</td>\n",
       "      <td>2007.897959</td>\n",
       "    </tr>\n",
       "    <tr>\n",
       "      <th>gender</th>\n",
       "      <td>0.503787</td>\n",
       "      <td>0.387059</td>\n",
       "      <td>0.389055</td>\n",
       "      <td>0.392482</td>\n",
       "      <td>0.251701</td>\n",
       "    </tr>\n",
       "    <tr>\n",
       "      <th>age</th>\n",
       "      <td>18.033159</td>\n",
       "      <td>17.799872</td>\n",
       "      <td>17.756611</td>\n",
       "      <td>18.057834</td>\n",
       "      <td>17.678432</td>\n",
       "    </tr>\n",
       "    <tr>\n",
       "      <th>NumberOffriends</th>\n",
       "      <td>4.696038</td>\n",
       "      <td>109.861176</td>\n",
       "      <td>60.829085</td>\n",
       "      <td>28.849855</td>\n",
       "      <td>208.646259</td>\n",
       "    </tr>\n",
       "    <tr>\n",
       "      <th>basketball</th>\n",
       "      <td>0.213516</td>\n",
       "      <td>0.325882</td>\n",
       "      <td>0.337706</td>\n",
       "      <td>0.294249</td>\n",
       "      <td>0.312925</td>\n",
       "    </tr>\n",
       "    <tr>\n",
       "      <th>football</th>\n",
       "      <td>0.220798</td>\n",
       "      <td>0.310588</td>\n",
       "      <td>0.284858</td>\n",
       "      <td>0.279257</td>\n",
       "      <td>0.299320</td>\n",
       "    </tr>\n",
       "    <tr>\n",
       "      <th>soccer</th>\n",
       "      <td>0.187300</td>\n",
       "      <td>0.261176</td>\n",
       "      <td>0.264243</td>\n",
       "      <td>0.242336</td>\n",
       "      <td>0.231293</td>\n",
       "    </tr>\n",
       "    <tr>\n",
       "      <th>softball</th>\n",
       "      <td>0.117536</td>\n",
       "      <td>0.276471</td>\n",
       "      <td>0.231634</td>\n",
       "      <td>0.159544</td>\n",
       "      <td>0.149660</td>\n",
       "    </tr>\n",
       "    <tr>\n",
       "      <th>volleyball</th>\n",
       "      <td>0.099913</td>\n",
       "      <td>0.194118</td>\n",
       "      <td>0.193028</td>\n",
       "      <td>0.165585</td>\n",
       "      <td>0.258503</td>\n",
       "    </tr>\n",
       "    <tr>\n",
       "      <th>swimming</th>\n",
       "      <td>0.111419</td>\n",
       "      <td>0.137647</td>\n",
       "      <td>0.171289</td>\n",
       "      <td>0.146341</td>\n",
       "      <td>0.217687</td>\n",
       "    </tr>\n",
       "    <tr>\n",
       "      <th>cheerleading</th>\n",
       "      <td>0.085494</td>\n",
       "      <td>0.201176</td>\n",
       "      <td>0.123313</td>\n",
       "      <td>0.103155</td>\n",
       "      <td>0.197279</td>\n",
       "    </tr>\n",
       "    <tr>\n",
       "      <th>baseball</th>\n",
       "      <td>0.092922</td>\n",
       "      <td>0.162353</td>\n",
       "      <td>0.116567</td>\n",
       "      <td>0.102484</td>\n",
       "      <td>0.115646</td>\n",
       "    </tr>\n",
       "    <tr>\n",
       "      <th>tennis</th>\n",
       "      <td>0.078066</td>\n",
       "      <td>0.112941</td>\n",
       "      <td>0.096327</td>\n",
       "      <td>0.093533</td>\n",
       "      <td>0.108844</td>\n",
       "    </tr>\n",
       "    <tr>\n",
       "      <th>sports</th>\n",
       "      <td>0.125546</td>\n",
       "      <td>0.164706</td>\n",
       "      <td>0.159295</td>\n",
       "      <td>0.159096</td>\n",
       "      <td>0.115646</td>\n",
       "    </tr>\n",
       "    <tr>\n",
       "      <th>cute</th>\n",
       "      <td>0.273085</td>\n",
       "      <td>0.452941</td>\n",
       "      <td>0.386432</td>\n",
       "      <td>0.344372</td>\n",
       "      <td>0.619048</td>\n",
       "    </tr>\n",
       "    <tr>\n",
       "      <th>sex</th>\n",
       "      <td>0.196621</td>\n",
       "      <td>0.184706</td>\n",
       "      <td>0.236132</td>\n",
       "      <td>0.236518</td>\n",
       "      <td>0.170068</td>\n",
       "    </tr>\n",
       "    <tr>\n",
       "      <th>sexy</th>\n",
       "      <td>0.122051</td>\n",
       "      <td>0.192941</td>\n",
       "      <td>0.148426</td>\n",
       "      <td>0.142761</td>\n",
       "      <td>0.251701</td>\n",
       "    </tr>\n",
       "    <tr>\n",
       "      <th>hot</th>\n",
       "      <td>0.104573</td>\n",
       "      <td>0.212941</td>\n",
       "      <td>0.133058</td>\n",
       "      <td>0.139181</td>\n",
       "      <td>0.156463</td>\n",
       "    </tr>\n",
       "    <tr>\n",
       "      <th>kissed</th>\n",
       "      <td>0.094232</td>\n",
       "      <td>0.090588</td>\n",
       "      <td>0.117316</td>\n",
       "      <td>0.113001</td>\n",
       "      <td>0.197279</td>\n",
       "    </tr>\n",
       "    <tr>\n",
       "      <th>dance</th>\n",
       "      <td>0.353044</td>\n",
       "      <td>0.591765</td>\n",
       "      <td>0.527736</td>\n",
       "      <td>0.460058</td>\n",
       "      <td>0.489796</td>\n",
       "    </tr>\n",
       "    <tr>\n",
       "      <th>band</th>\n",
       "      <td>0.268715</td>\n",
       "      <td>0.264706</td>\n",
       "      <td>0.339955</td>\n",
       "      <td>0.332960</td>\n",
       "      <td>0.435374</td>\n",
       "    </tr>\n",
       "    <tr>\n",
       "      <th>marching</th>\n",
       "      <td>0.035537</td>\n",
       "      <td>0.036471</td>\n",
       "      <td>0.053973</td>\n",
       "      <td>0.044305</td>\n",
       "      <td>0.102041</td>\n",
       "    </tr>\n",
       "    <tr>\n",
       "      <th>music</th>\n",
       "      <td>0.678415</td>\n",
       "      <td>0.761176</td>\n",
       "      <td>0.800225</td>\n",
       "      <td>0.769971</td>\n",
       "      <td>0.768707</td>\n",
       "    </tr>\n",
       "    <tr>\n",
       "      <th>rock</th>\n",
       "      <td>0.222109</td>\n",
       "      <td>0.288235</td>\n",
       "      <td>0.275862</td>\n",
       "      <td>0.257552</td>\n",
       "      <td>0.210884</td>\n",
       "    </tr>\n",
       "    <tr>\n",
       "      <th>god</th>\n",
       "      <td>0.420915</td>\n",
       "      <td>0.627059</td>\n",
       "      <td>0.579460</td>\n",
       "      <td>0.461177</td>\n",
       "      <td>0.639456</td>\n",
       "    </tr>\n",
       "    <tr>\n",
       "      <th>church</th>\n",
       "      <td>0.188028</td>\n",
       "      <td>0.401176</td>\n",
       "      <td>0.316342</td>\n",
       "      <td>0.253972</td>\n",
       "      <td>0.401361</td>\n",
       "    </tr>\n",
       "    <tr>\n",
       "      <th>jesus</th>\n",
       "      <td>0.091902</td>\n",
       "      <td>0.175294</td>\n",
       "      <td>0.133808</td>\n",
       "      <td>0.116805</td>\n",
       "      <td>0.156463</td>\n",
       "    </tr>\n",
       "    <tr>\n",
       "      <th>bible</th>\n",
       "      <td>0.017477</td>\n",
       "      <td>0.029412</td>\n",
       "      <td>0.023238</td>\n",
       "      <td>0.022824</td>\n",
       "      <td>0.020408</td>\n",
       "    </tr>\n",
       "    <tr>\n",
       "      <th>hair</th>\n",
       "      <td>0.403292</td>\n",
       "      <td>0.472941</td>\n",
       "      <td>0.461394</td>\n",
       "      <td>0.442157</td>\n",
       "      <td>0.612245</td>\n",
       "    </tr>\n",
       "    <tr>\n",
       "      <th>dress</th>\n",
       "      <td>0.099330</td>\n",
       "      <td>0.176471</td>\n",
       "      <td>0.135682</td>\n",
       "      <td>0.120161</td>\n",
       "      <td>0.108844</td>\n",
       "    </tr>\n",
       "    <tr>\n",
       "      <th>blonde</th>\n",
       "      <td>0.081561</td>\n",
       "      <td>0.151765</td>\n",
       "      <td>0.103823</td>\n",
       "      <td>0.158425</td>\n",
       "      <td>0.129252</td>\n",
       "    </tr>\n",
       "    <tr>\n",
       "      <th>mall</th>\n",
       "      <td>0.209875</td>\n",
       "      <td>0.462353</td>\n",
       "      <td>0.318966</td>\n",
       "      <td>0.257552</td>\n",
       "      <td>0.380952</td>\n",
       "    </tr>\n",
       "    <tr>\n",
       "      <th>shopping</th>\n",
       "      <td>0.300903</td>\n",
       "      <td>0.462353</td>\n",
       "      <td>0.447151</td>\n",
       "      <td>0.365182</td>\n",
       "      <td>0.510204</td>\n",
       "    </tr>\n",
       "    <tr>\n",
       "      <th>clothes</th>\n",
       "      <td>0.138363</td>\n",
       "      <td>0.161176</td>\n",
       "      <td>0.163418</td>\n",
       "      <td>0.155963</td>\n",
       "      <td>0.231293</td>\n",
       "    </tr>\n",
       "    <tr>\n",
       "      <th>hollister</th>\n",
       "      <td>0.055491</td>\n",
       "      <td>0.118824</td>\n",
       "      <td>0.098201</td>\n",
       "      <td>0.071157</td>\n",
       "      <td>0.102041</td>\n",
       "    </tr>\n",
       "    <tr>\n",
       "      <th>abercrombie</th>\n",
       "      <td>0.038013</td>\n",
       "      <td>0.085882</td>\n",
       "      <td>0.071214</td>\n",
       "      <td>0.050571</td>\n",
       "      <td>0.149660</td>\n",
       "    </tr>\n",
       "    <tr>\n",
       "      <th>die</th>\n",
       "      <td>0.173755</td>\n",
       "      <td>0.207059</td>\n",
       "      <td>0.180660</td>\n",
       "      <td>0.202506</td>\n",
       "      <td>0.217687</td>\n",
       "    </tr>\n",
       "    <tr>\n",
       "      <th>death</th>\n",
       "      <td>0.102389</td>\n",
       "      <td>0.141176</td>\n",
       "      <td>0.131559</td>\n",
       "      <td>0.127769</td>\n",
       "      <td>0.176871</td>\n",
       "    </tr>\n",
       "    <tr>\n",
       "      <th>drunk</th>\n",
       "      <td>0.086950</td>\n",
       "      <td>0.114118</td>\n",
       "      <td>0.088831</td>\n",
       "      <td>0.094428</td>\n",
       "      <td>0.156463</td>\n",
       "    </tr>\n",
       "    <tr>\n",
       "      <th>drugs</th>\n",
       "      <td>0.066123</td>\n",
       "      <td>0.031765</td>\n",
       "      <td>0.061844</td>\n",
       "      <td>0.059297</td>\n",
       "      <td>0.034014</td>\n",
       "    </tr>\n",
       "  </tbody>\n",
       "</table>\n",
       "</div>"
      ],
      "text/plain": [
       "cluster                    0            1            2            3  \\\n",
       "gradyear         2007.428634  2007.671765  2007.616942  2007.483777   \n",
       "gender              0.503787     0.387059     0.389055     0.392482   \n",
       "age                18.033159    17.799872    17.756611    18.057834   \n",
       "NumberOffriends     4.696038   109.861176    60.829085    28.849855   \n",
       "basketball          0.213516     0.325882     0.337706     0.294249   \n",
       "football            0.220798     0.310588     0.284858     0.279257   \n",
       "soccer              0.187300     0.261176     0.264243     0.242336   \n",
       "softball            0.117536     0.276471     0.231634     0.159544   \n",
       "volleyball          0.099913     0.194118     0.193028     0.165585   \n",
       "swimming            0.111419     0.137647     0.171289     0.146341   \n",
       "cheerleading        0.085494     0.201176     0.123313     0.103155   \n",
       "baseball            0.092922     0.162353     0.116567     0.102484   \n",
       "tennis              0.078066     0.112941     0.096327     0.093533   \n",
       "sports              0.125546     0.164706     0.159295     0.159096   \n",
       "cute                0.273085     0.452941     0.386432     0.344372   \n",
       "sex                 0.196621     0.184706     0.236132     0.236518   \n",
       "sexy                0.122051     0.192941     0.148426     0.142761   \n",
       "hot                 0.104573     0.212941     0.133058     0.139181   \n",
       "kissed              0.094232     0.090588     0.117316     0.113001   \n",
       "dance               0.353044     0.591765     0.527736     0.460058   \n",
       "band                0.268715     0.264706     0.339955     0.332960   \n",
       "marching            0.035537     0.036471     0.053973     0.044305   \n",
       "music               0.678415     0.761176     0.800225     0.769971   \n",
       "rock                0.222109     0.288235     0.275862     0.257552   \n",
       "god                 0.420915     0.627059     0.579460     0.461177   \n",
       "church              0.188028     0.401176     0.316342     0.253972   \n",
       "jesus               0.091902     0.175294     0.133808     0.116805   \n",
       "bible               0.017477     0.029412     0.023238     0.022824   \n",
       "hair                0.403292     0.472941     0.461394     0.442157   \n",
       "dress               0.099330     0.176471     0.135682     0.120161   \n",
       "blonde              0.081561     0.151765     0.103823     0.158425   \n",
       "mall                0.209875     0.462353     0.318966     0.257552   \n",
       "shopping            0.300903     0.462353     0.447151     0.365182   \n",
       "clothes             0.138363     0.161176     0.163418     0.155963   \n",
       "hollister           0.055491     0.118824     0.098201     0.071157   \n",
       "abercrombie         0.038013     0.085882     0.071214     0.050571   \n",
       "die                 0.173755     0.207059     0.180660     0.202506   \n",
       "death               0.102389     0.141176     0.131559     0.127769   \n",
       "drunk               0.086950     0.114118     0.088831     0.094428   \n",
       "drugs               0.066123     0.031765     0.061844     0.059297   \n",
       "\n",
       "cluster                    4  \n",
       "gradyear         2007.897959  \n",
       "gender              0.251701  \n",
       "age                17.678432  \n",
       "NumberOffriends   208.646259  \n",
       "basketball          0.312925  \n",
       "football            0.299320  \n",
       "soccer              0.231293  \n",
       "softball            0.149660  \n",
       "volleyball          0.258503  \n",
       "swimming            0.217687  \n",
       "cheerleading        0.197279  \n",
       "baseball            0.115646  \n",
       "tennis              0.108844  \n",
       "sports              0.115646  \n",
       "cute                0.619048  \n",
       "sex                 0.170068  \n",
       "sexy                0.251701  \n",
       "hot                 0.156463  \n",
       "kissed              0.197279  \n",
       "dance               0.489796  \n",
       "band                0.435374  \n",
       "marching            0.102041  \n",
       "music               0.768707  \n",
       "rock                0.210884  \n",
       "god                 0.639456  \n",
       "church              0.401361  \n",
       "jesus               0.156463  \n",
       "bible               0.020408  \n",
       "hair                0.612245  \n",
       "dress               0.108844  \n",
       "blonde              0.129252  \n",
       "mall                0.380952  \n",
       "shopping            0.510204  \n",
       "clothes             0.231293  \n",
       "hollister           0.102041  \n",
       "abercrombie         0.149660  \n",
       "die                 0.217687  \n",
       "death               0.176871  \n",
       "drunk               0.156463  \n",
       "drugs               0.034014  "
      ]
     },
     "execution_count": 46,
     "metadata": {},
     "output_type": "execute_result"
    }
   ],
   "source": [
    "def describe_clusters(df):\n",
    "   \n",
    "    # Describe cluster characteristics\n",
    "    cluster_analysis = df.groupby('cluster').mean().T\n",
    "    print(\"Cluster Characteristics:\")\n",
    "    cluster_df = pd.DataFrame(cluster_analysis)\n",
    "    \n",
    "    return cluster_df\n",
    "\n",
    "describe_clusters(data)"
   ]
  },
  {
   "cell_type": "markdown",
   "id": "c64f7c64",
   "metadata": {
    "papermill": {
     "duration": 0.03133,
     "end_time": "2024-02-29T11:09:22.061195",
     "exception": false,
     "start_time": "2024-02-29T11:09:22.029865",
     "status": "completed"
    },
    "tags": []
   },
   "source": [
    " # 📌Recommendation for marketing department\n",
    " \n",
    "#### 👉Targeting Female-Centric Products:\n",
    "\n",
    "Clusters 1, 2, and 3 have a higher percentage of females compared to the overall population. Therefore, products or advertisements that specifically target teenage girls may perform well within these clusters.\n",
    "Products related to fashion, beauty, socializing, or lifestyle may resonate more with these clusters.\n",
    "\n",
    "\n",
    "#### 👉Understanding Male-Centric Interests:\n",
    "\n",
    "Clusters 0 and 4 have a higher percentage of males. Understanding the interests and preferences of teenage boys within these clusters can help develop marketing campaigns tailored to their needs.\n",
    "Products related to sports, technology, gaming, or adventure may appeal more to these clusters.\n",
    "\n",
    "#### 👉Fashion and Retail Promotions:\n",
    "\n",
    "Clusters 2 and 3 show a higher interest in shopping, suggesting that advertising campaigns or promotions related to shopping might be more effective for these clusters.\n",
    "\n",
    "\n",
    "#### 👉Sports and Lifestyle Brand Partnerships:\n",
    "\n",
    "Collaborate with sports brands or organize sports-related events and activities to appeal to clusters showing a strong interest in sports (e.g., Clusters 3 and 4).\n"
   ]
  },
  {
   "cell_type": "code",
   "execution_count": null,
   "id": "12d256b8",
   "metadata": {},
   "outputs": [],
   "source": []
  }
 ],
 "metadata": {
  "kaggle": {
   "accelerator": "none",
   "dataSources": [
    {
     "datasetId": 4514514,
     "sourceId": 7727037,
     "sourceType": "datasetVersion"
    }
   ],
   "dockerImageVersionId": 30664,
   "isGpuEnabled": false,
   "isInternetEnabled": true,
   "language": "python",
   "sourceType": "notebook"
  },
  "kernelspec": {
   "display_name": "Python 3 (ipykernel)",
   "language": "python",
   "name": "python3"
  },
  "language_info": {
   "codemirror_mode": {
    "name": "ipython",
    "version": 3
   },
   "file_extension": ".py",
   "mimetype": "text/x-python",
   "name": "python",
   "nbconvert_exporter": "python",
   "pygments_lexer": "ipython3",
   "version": "3.11.5"
  },
  "papermill": {
   "duration": 49.04747,
   "end_time": "2024-02-29T11:09:22.815206",
   "environment_variables": {},
   "exception": null,
   "input_path": "__notebook__.ipynb",
   "output_path": "__notebook__.ipynb",
   "parameters": {},
   "start_time": "2024-02-29T11:08:33.767736",
   "version": "2.1.0"
  },
  "toc": {
   "base_numbering": 1,
   "nav_menu": {},
   "number_sections": true,
   "sideBar": true,
   "skip_h1_title": false,
   "title_cell": "Table of Contents",
   "title_sidebar": "Contents",
   "toc_cell": false,
   "toc_position": {},
   "toc_section_display": true,
   "toc_window_display": false
  }
 },
 "nbformat": 4,
 "nbformat_minor": 5
}
